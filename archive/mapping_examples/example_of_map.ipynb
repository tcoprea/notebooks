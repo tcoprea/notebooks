{
 "cells": [
  {
   "cell_type": "code",
   "execution_count": 1,
   "metadata": {},
   "outputs": [
    {
     "data": {
      "text/plain": [
       "[Function: map]"
      ]
     },
     "execution_count": 1,
     "metadata": {},
     "output_type": "execute_result"
    }
   ],
   "source": [
    "[].map"
   ]
  },
  {
   "cell_type": "markdown",
   "metadata": {},
   "source": [
    "* `map` is a function on arrays\n",
    "* You use it when you need another array of stuff\n",
    "* So you must start with some array of data\n",
    "* map will map over each thing\n",
    "* in position 1 of the signature you must put a function"
   ]
  },
  {
   "cell_type": "code",
   "execution_count": 6,
   "metadata": {},
   "outputs": [],
   "source": [
    "var startingData = [4, 56, 89, 3, 'dkakd', 3];"
   ]
  },
  {
   "cell_type": "code",
   "execution_count": 10,
   "metadata": {},
   "outputs": [],
   "source": [
    "var newData = startingData\n",
    "    .map((item) => `I am now a string: ${String(item)}`)"
   ]
  },
  {
   "cell_type": "code",
   "execution_count": 11,
   "metadata": {},
   "outputs": [
    {
     "data": {
      "text/plain": [
       "[ 'I am now a string: 4',\n",
       "  'I am now a string: 56',\n",
       "  'I am now a string: 89',\n",
       "  'I am now a string: 3',\n",
       "  'I am now a string: dkakd',\n",
       "  'I am now a string: 3' ]"
      ]
     },
     "execution_count": 11,
     "metadata": {},
     "output_type": "execute_result"
    }
   ],
   "source": [
    "newData"
   ]
  },
  {
   "cell_type": "code",
   "execution_count": 12,
   "metadata": {},
   "outputs": [
    {
     "data": {
      "text/plain": [
       "[ 4, 56, 89, 3, 'dkakd', 3 ]"
      ]
     },
     "execution_count": 12,
     "metadata": {},
     "output_type": "execute_result"
    }
   ],
   "source": [
    "startingData"
   ]
  },
  {
   "cell_type": "code",
   "execution_count": 14,
   "metadata": {},
   "outputs": [
    {
     "name": "stdout",
     "output_type": "stream",
     "text": [
      "I am now a string: 4\n",
      "I am now a string: 56\n",
      "I am now a string: 89\n",
      "I am now a string: 3\n",
      "I am now a string: dkakd\n",
      "I am now a string: 3\n"
     ]
    }
   ],
   "source": [
    "var sideEffect = newData.forEach(item => console.log(item))"
   ]
  },
  {
   "cell_type": "code",
   "execution_count": 16,
   "metadata": {},
   "outputs": [
    {
     "name": "stdout",
     "output_type": "stream",
     "text": [
      "undefined\n"
     ]
    }
   ],
   "source": [
    "console.log(sideEffect);"
   ]
  },
  {
   "cell_type": "code",
   "execution_count": 17,
   "metadata": {},
   "outputs": [
    {
     "name": "stdout",
     "output_type": "stream",
     "text": [
      "I am now a string: 4\n",
      "I am now a string: 56\n",
      "I am now a string: 89\n",
      "I am now a string: 3\n",
      "I am now a string: dkakd\n",
      "I am now a string: 3\n"
     ]
    }
   ],
   "source": [
    "var nothingReturned = newData.forEach(item => {\n",
    "    console.log(item);\n",
    "    return 'hello'\n",
    "    }\n",
    ")"
   ]
  },
  {
   "cell_type": "code",
   "execution_count": 18,
   "metadata": {},
   "outputs": [
    {
     "name": "stdout",
     "output_type": "stream",
     "text": [
      "undefined\n"
     ]
    }
   ],
   "source": [
    "console.log(nothingReturned);"
   ]
  },
  {
   "cell_type": "code",
   "execution_count": 26,
   "metadata": {},
   "outputs": [
    {
     "data": {
      "text/plain": [
       "[ 'hello 0', 'hello 1', 'hello 2', 'hello 3', 'hello 4', 'hello 5' ]"
      ]
     },
     "execution_count": 26,
     "metadata": {},
     "output_type": "execute_result"
    }
   ],
   "source": [
    "startingData.map((item, index) => 'hello ' + index)"
   ]
  },
  {
   "cell_type": "markdown",
   "metadata": {},
   "source": [
    "## works the same with nested data"
   ]
  },
  {
   "cell_type": "code",
   "execution_count": 36,
   "metadata": {},
   "outputs": [],
   "source": [
    "var nestedData = [\n",
    "    ['a', 'apple'], \n",
    "    ['b', 'banana'], \n",
    "    ['c', 'cherry'],\n",
    "]"
   ]
  },
  {
   "cell_type": "code",
   "execution_count": 37,
   "metadata": {},
   "outputs": [],
   "source": [
    "var fruit = nestedData.map((item) => item.join(' x '))"
   ]
  },
  {
   "cell_type": "code",
   "execution_count": 38,
   "metadata": {},
   "outputs": [],
   "source": [
    "var lengths = nestedData.map((item) => item.length)"
   ]
  },
  {
   "cell_type": "code",
   "execution_count": 39,
   "metadata": {},
   "outputs": [
    {
     "data": {
      "text/plain": [
       "[ [ 'a x apple', 'b x banana', 'c x cherry' ], [ 2, 2, 2 ] ]"
      ]
     },
     "execution_count": 39,
     "metadata": {},
     "output_type": "execute_result"
    }
   ],
   "source": [
    "[fruit, lengths]"
   ]
  },
  {
   "cell_type": "code",
   "execution_count": 41,
   "metadata": {},
   "outputs": [
    {
     "data": {
      "text/plain": [
       "'alsdkfjksld alsdkjflaskdfjlk akdjfhjksadfh'"
      ]
     },
     "execution_count": 41,
     "metadata": {},
     "output_type": "execute_result"
    }
   ],
   "source": [
    "[\n",
    "    'alsdkfjksld',\n",
    "    'alsdkjflaskdfjlk',\n",
    "    'akdjfhjksadfh'\n",
    "].join(' ')"
   ]
  }
 ],
 "metadata": {
  "kernelspec": {
   "display_name": "Javascript (Node.js)",
   "language": "javascript",
   "name": "javascript"
  },
  "language_info": {
   "file_extension": ".js",
   "mimetype": "application/javascript",
   "name": "javascript",
   "version": "6.13.1"
  }
 },
 "nbformat": 4,
 "nbformat_minor": 2
}
