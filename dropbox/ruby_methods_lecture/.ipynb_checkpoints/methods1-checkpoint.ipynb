{
 "cells": [
  {
   "cell_type": "code",
   "execution_count": 84,
   "metadata": {},
   "outputs": [
    {
     "data": {
      "text/plain": [
       "[[\"Life at Wyncode\", \"Tatiana\", 100, false], [\"To Kill a Mockingbird\", \"Harper Lee\", 160, true], [\"Frankenstein\", \"Mary Shelley\"], [\"The Jungle\", \"Upton Sinclair\", nil]]"
      ]
     },
     "execution_count": 84,
     "metadata": {},
     "output_type": "execute_result"
    }
   ],
   "source": [
    "book_list = [\n",
    "    ['Life at Wyncode', 'Tatiana', 100, false, ],\n",
    "    ['To Kill a Mockingbird', 'Harper Lee', 160, true, ],\n",
    "    ['Frankenstein', 'Mary Shelley'],\n",
    "    ['The Jungle', 'Upton Sinclair', nil, ],\n",
    "]"
   ]
  },
  {
   "cell_type": "code",
   "execution_count": 146,
   "metadata": {},
   "outputs": [
    {
     "name": "stdout",
     "output_type": "stream",
     "text": [
      "1) Tatiana 100 askdfjaskdjfhj\n",
      "2) Harper Lee 160 askdfjaskdjfhj\n",
      "3) Mary Shelley  askdfjaskdjfhj\n",
      "4) Upton Sinclair  askdfjaskdjfhj\n"
     ]
    },
    {
     "data": {
      "text/plain": [
       "[\"1) Tatiana 100 askdfjaskdjfhj\", \"2) Harper Lee 160 askdfjaskdjfhj\", \"3) Mary Shelley  askdfjaskdjfhj\", \"4) Upton Sinclair  askdfjaskdjfhj\"]"
      ]
     },
     "execution_count": 146,
     "metadata": {},
     "output_type": "execute_result"
    }
   ],
   "source": [
    "kittycat = 'askdfjaskdjfhj'\n",
    "(0...book_list.length).map do |number|\n",
    "    author = book_list[number][1]\n",
    "    pages = book_list[number][2]\n",
    "    \n",
    "    [\"#{number + 1})\", author, pages, kittycat]\n",
    "end\n",
    "    .map do |items|\n",
    "        items.join(' ')\n",
    "    end.each do |item|\n",
    "        puts item\n",
    "    end"
   ]
  },
  {
   "cell_type": "code",
   "execution_count": 142,
   "metadata": {},
   "outputs": [
    {
     "name": "stdout",
     "output_type": "stream",
     "text": [
      "[1, \"Tatiana\"]\n",
      "[2, \"Harper Lee\"]\n",
      "[3, \"Mary Shelley\"]\n",
      "[4, \"Upton Sinclair\"]\n"
     ]
    },
    {
     "data": {
      "text/plain": [
       "[[1, \"Tatiana\"], [2, \"Harper Lee\"], [3, \"Mary Shelley\"], [4, \"Upton Sinclair\"]]"
      ]
     },
     "execution_count": 142,
     "metadata": {},
     "output_type": "execute_result"
    }
   ],
   "source": [
    "(1..book_list.length).map do |number|\n",
    "    p [number, book_list[number - 1][1], ]\n",
    "end"
   ]
  },
  {
   "cell_type": "code",
   "execution_count": 91,
   "metadata": {},
   "outputs": [
    {
     "name": "stdout",
     "output_type": "stream",
     "text": [
      "\"Tatiana\"\n",
      "\"Harper Lee\"\n",
      "\"Mary Shelley\"\n",
      "\"Upton Sinclair\"\n"
     ]
    },
    {
     "data": {
      "text/plain": [
       "[[\"Life at Wyncode\", \"Tatiana\", 100, false], [\"To Kill a Mockingbird\", \"Harper Lee\", 160, true], [\"Frankenstein\", \"Mary Shelley\"], [\"The Jungle\", \"Upton Sinclair\", nil]]"
      ]
     },
     "execution_count": 91,
     "metadata": {},
     "output_type": "execute_result"
    }
   ],
   "source": [
    "book_list.each {|book|\n",
    "    p book[1]\n",
    "}"
   ]
  },
  {
   "cell_type": "code",
   "execution_count": 88,
   "metadata": {},
   "outputs": [
    {
     "name": "stdout",
     "output_type": "stream",
     "text": [
      "\"Life at Wyncode\"\n",
      "\"To Kill a Mockingbird\"\n",
      "\"Frankenstein\"\n",
      "\"The Jungle\"\n"
     ]
    },
    {
     "data": {
      "text/plain": [
       "[[\"Life at Wyncode\", \"Tatiana\", 100, false], [\"To Kill a Mockingbird\", \"Harper Lee\", 160, true], [\"Frankenstein\", \"Mary Shelley\"], [\"The Jungle\", \"Upton Sinclair\", nil]]"
      ]
     },
     "execution_count": 88,
     "metadata": {},
     "output_type": "execute_result"
    }
   ],
   "source": [
    "book_list.each {|book| p book.first}"
   ]
  },
  {
   "cell_type": "code",
   "execution_count": 85,
   "metadata": {},
   "outputs": [
    {
     "data": {
      "text/plain": [
       ":create_book"
      ]
     },
     "execution_count": 85,
     "metadata": {},
     "output_type": "execute_result"
    }
   ],
   "source": [
    "def create_book(title, author, pages, read=false)\n",
    "    # returns a hash with the following keys\n",
    "    # keys = [title:, author:, pages:, read:, ]\n",
    "    p({\n",
    "        title: title,\n",
    "        author: author,\n",
    "        pages: pages,\n",
    "        read: read,\n",
    "    })\n",
    "end"
   ]
  },
  {
   "cell_type": "code",
   "execution_count": 147,
   "metadata": {},
   "outputs": [
    {
     "data": {
      "text/plain": [
       "[:&, :to_c, :nil?, :===, :to_s, :inspect, :to_r, :to_i, :to_a, :to_h, :rationalize, :|, :to_f, :^, :to_json, :instance_variable_set, :instance_variable_defined?, :remove_instance_variable, :instance_of?, :kind_of?, :is_a?, :tap, :instance_variable_get, :public_methods, :instance_variables, :method, :singleton_method, :define_singleton_method, :public_send, :public_method, :extend, :to_enum, :enum_for, :pp, :<=>, :=~, :!~, :eql?, :respond_to?, :freeze, :object_id, :send, :display, :hash, :class, :singleton_class, :clone, :dup, :itself, :taint, :yield_self, :untaint, :tainted?, :untrusted?, :untrust, :frozen?, :trust, :singleton_methods, :methods, :protected_methods, :private_methods, :!, :equal?, :instance_eval, :instance_exec, :==, :!=, :__id__, :__send__]"
      ]
     },
     "execution_count": 147,
     "metadata": {},
     "output_type": "execute_result"
    }
   ],
   "source": [
    "p.methods"
   ]
  },
  {
   "cell_type": "code",
   "execution_count": null,
   "metadata": {},
   "outputs": [],
   "source": []
  }
 ],
 "metadata": {
  "kernelspec": {
   "display_name": "Ruby 2.5.0",
   "language": "ruby",
   "name": "ruby"
  },
  "language_info": {
   "file_extension": ".rb",
   "mimetype": "application/x-ruby",
   "name": "ruby",
   "version": "2.5.0"
  }
 },
 "nbformat": 4,
 "nbformat_minor": 2
}
