{
 "cells": [
  {
   "cell_type": "markdown",
   "metadata": {},
   "source": [
    "## Task: Define a function named \"countCharacters\" that takes one argument.\n",
    "\n",
    "* The parameter in the signature of `countDuplicates` is named `string`.\n",
    "* The function returns an object that has property names that correspond to each character of the string. The values of the object should be the counts of each character.\n",
    "\n",
    "Example:\n",
    "\n",
    "```js\n",
    "function countCharacters(string){\n",
    "    // logic here that creates the object\n",
    "    return {}  // Returned object.\n",
    "}\n",
    "```\n",
    "\n",
    "```js\n",
    "\n",
    "countCharacters('aazbbex') //calling the function\n",
    "{'a': 2, 'z': 1, 'b': 2, 'e': 1, 'x' 1} //expected output\n",
    "\n",
    "```"
   ]
  },
  {
   "cell_type": "code",
   "execution_count": 35,
   "metadata": {},
   "outputs": [
    {
     "data": {
      "text/plain": [
       "'undefined: 2'"
      ]
     },
     "execution_count": 35,
     "metadata": {},
     "output_type": "execute_result"
    }
   ],
   "source": [
    "function countChar (str){\n",
    "    var times = 0;\n",
    "    for (i=0;i<=str.length;i++){\n",
    "        if (str[i] === 'b') {\n",
    "            times++\n",
    "        }\n",
    "    }\n",
    "    return (`${str[i]}: ${times}`);\n",
    "}\n",
    "\n",
    "var str = 'aazbbex'\n",
    "countChar(str);"
   ]
  },
  {
   "cell_type": "code",
   "execution_count": 1,
   "metadata": {},
   "outputs": [
    {
     "data": {
      "text/plain": [
       "{ j: 5, f: 5, s: 2, k: 1, d: 1, a: 1, v: 3, r: 1, z: 1, q: 3 }"
      ]
     },
     "execution_count": 1,
     "metadata": {},
     "output_type": "execute_result"
    }
   ],
   "source": [
    "// Task: Define a function named \"countCharacters\" that takes one argument.\n",
    "// The parameter in the signature is named string.\n",
    "// The function returns an object that has property names that correspond to each character of the string. The values of the object should be the counts of each character.\n",
    "// Example:\n",
    "\n",
    "// function countCharacters(string){\n",
    "//     // logic here that creates the object\n",
    "//     return {}  // Returned object.\n",
    "// }\n",
    "\n",
    "// countCharacters('aazbbex') //calling the function\n",
    "// {'a': 2, 'z': 1, 'b': 2, 'e': 1, 'x' 1} //expected output\n",
    "\n",
    "// Outline:\n",
    "// make a fn that takes a str as an argument.\n",
    "// function returns an object.\n",
    "// the object contains: property names as letters in the string. --you make the properties as you iterate\n",
    "// property values are equal to the count of the letter. never seen before? set count to 1. else ++\n",
    "\n",
    "var testString = 'jjfsksdaffvvvjjrjffzqqq';\n",
    "\n",
    "\n",
    "function countCharacters (string) {\n",
    "  var counter = {};\n",
    "  \n",
    "  for (i=0; i<string.length;i++) {\n",
    "    \n",
    "    if(!counter.hasOwnProperty(string[i])) {\n",
    "      counter[string[i]] = 1; \n",
    "      }\n",
    "    else {\n",
    "      counter[string[i]]++;\n",
    "         }\n",
    "  }\n",
    "  \n",
    "  return counter;\n",
    "  }\n",
    "  \n",
    "countCharacters (testString);"
   ]
  },
  {
   "cell_type": "code",
   "execution_count": null,
   "metadata": {},
   "outputs": [],
   "source": []
  }
 ],
 "metadata": {
  "kernelspec": {
   "display_name": "Javascript (Node.js)",
   "language": "javascript",
   "name": "javascript"
  },
  "language_info": {
   "file_extension": ".js",
   "mimetype": "application/javascript",
   "name": "javascript",
   "version": "6.13.1"
  }
 },
 "nbformat": 4,
 "nbformat_minor": 2
}
