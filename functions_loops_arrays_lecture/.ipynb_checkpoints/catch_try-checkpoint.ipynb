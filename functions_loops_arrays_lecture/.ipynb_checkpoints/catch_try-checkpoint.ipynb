{
 "cells": [
  {
   "cell_type": "code",
   "execution_count": 11,
   "metadata": {},
   "outputs": [
    {
     "name": "stdout",
     "output_type": "stream",
     "text": [
      "This is a NodeJS env. What is a document?\n"
     ]
    }
   ],
   "source": [
    "try {\n",
    "    console.log(document);\n",
    "} catch(e){\n",
    "    console.log('This is a NodeJS env. What is a document?');\n",
    "}"
   ]
  },
  {
   "cell_type": "code",
   "execution_count": 12,
   "metadata": {},
   "outputs": [
    {
     "name": "stdout",
     "output_type": "stream",
     "text": [
      "Error handled. WE made it!\n"
     ]
    }
   ],
   "source": [
    "console.log('Error handled. WE made it!')"
   ]
  }
 ],
 "metadata": {
  "kernelspec": {
   "display_name": "Javascript (Node.js)",
   "language": "javascript",
   "name": "javascript"
  },
  "language_info": {
   "file_extension": ".js",
   "mimetype": "application/javascript",
   "name": "javascript",
   "version": "6.13.1"
  }
 },
 "nbformat": 4,
 "nbformat_minor": 2
}
