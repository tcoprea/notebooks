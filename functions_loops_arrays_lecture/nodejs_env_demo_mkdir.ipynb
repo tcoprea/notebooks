{
 "cells": [
  {
   "cell_type": "markdown",
   "metadata": {},
   "source": [
    "## NodeJS way of importing a module (code)\n",
    "\n",
    "`require` is a function available only the NodeJS environment"
   ]
  },
  {
   "cell_type": "code",
   "execution_count": 1,
   "metadata": {},
   "outputs": [],
   "source": [
    "var fs = require('fs');"
   ]
  },
  {
   "cell_type": "markdown",
   "metadata": {},
   "source": [
    "## filter out the functions by name that contain 'dir'"
   ]
  },
  {
   "cell_type": "code",
   "execution_count": 2,
   "metadata": {},
   "outputs": [
    {
     "data": {
      "text/plain": [
       "[ 'rmdir',\n",
       "  'rmdirSync',\n",
       "  'mkdir',\n",
       "  'mkdirSync',\n",
       "  'readdir',\n",
       "  'readdirSync' ]"
      ]
     },
     "execution_count": 2,
     "metadata": {},
     "output_type": "execute_result"
    }
   ],
   "source": [
    "Object.getOwnPropertyNames(fs).filter(item => item.includes('dir'))"
   ]
  },
  {
   "cell_type": "markdown",
   "metadata": {},
   "source": [
    "## creating a directory in the current working directory using JavaScript"
   ]
  },
  {
   "cell_type": "code",
   "execution_count": 3,
   "metadata": {},
   "outputs": [],
   "source": [
    "fs.mkdir('./created-by-node-js', function(err){ console.log(err) });"
   ]
  },
  {
   "cell_type": "markdown",
   "metadata": {},
   "source": [
    "## Error thrown because directory exists"
   ]
  },
  {
   "cell_type": "code",
   "execution_count": 4,
   "metadata": {},
   "outputs": [
    {
     "name": "stdout",
     "output_type": "stream",
     "text": [
      "null\n",
      "{ Error: EEXIST: file already exists, mkdir './created-by-node-js'\n",
      "    at Error (native)\n",
      "  errno: -17,\n",
      "  code: 'EEXIST',\n",
      "  syscall: 'mkdir',\n",
      "  path: './created-by-node-js' }\n"
     ]
    }
   ],
   "source": [
    "fs.mkdir('./created-by-node-js', function(err){ console.log(err) });"
   ]
  }
 ],
 "metadata": {
  "kernelspec": {
   "display_name": "Javascript (Node.js)",
   "language": "javascript",
   "name": "javascript"
  },
  "language_info": {
   "file_extension": ".js",
   "mimetype": "application/javascript",
   "name": "javascript",
   "version": "6.13.1"
  }
 },
 "nbformat": 4,
 "nbformat_minor": 2
}
