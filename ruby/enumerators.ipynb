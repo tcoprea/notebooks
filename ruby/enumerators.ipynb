{
 "cells": [
  {
   "cell_type": "code",
   "execution_count": 6,
   "metadata": {},
   "outputs": [
    {
     "data": {
      "text/plain": [
       "[:a, :b, :c, :d, :e, :f, :g, :h, :i, :j, :k, :l, :m, :n, :o, :p, :q, :r, :s, :t, :u, :v, :w, :x, :y, :z]"
      ]
     },
     "execution_count": 6,
     "metadata": {},
     "output_type": "execute_result"
    }
   ],
   "source": [
    "alphabet = ('a'..'z').map{|letter| letter.to_sym}"
   ]
  },
  {
   "cell_type": "code",
   "execution_count": 8,
   "metadata": {},
   "outputs": [
    {
     "data": {
      "text/plain": [
       "[54, 41, 89, 6, 6, 15, 37, 47, 12, 64, 42, 67, 90, 99, 75, 91, 91, 98, 22, 49, 64, 32, 52, 50, 33, 68]"
      ]
     },
     "execution_count": 8,
     "metadata": {},
     "output_type": "execute_result"
    }
   ],
   "source": [
    "numbers = 26.times.map{(0..100).to_a.sample}"
   ]
  },
  {
   "cell_type": "code",
   "execution_count": 7,
   "metadata": {},
   "outputs": [
    {
     "data": {
      "text/plain": [
       "{:a=>1, :b=>2, :c=>3, :d=>4, :e=>5, :f=>6, :g=>7, :h=>8, :i=>9, :j=>10, :k=>11, :l=>12, :m=>13, :n=>14, :o=>15, :p=>16, :q=>17, :r=>18, :s=>19, :t=>20, :u=>21, :v=>22, :w=>23, :x=>24, :y=>25, :z=>26}"
      ]
     },
     "execution_count": 7,
     "metadata": {},
     "output_type": "execute_result"
    }
   ],
   "source": [
    "Hash[alphabet.zip(numbers)]"
   ]
  },
  {
   "cell_type": "code",
   "execution_count": 13,
   "metadata": {},
   "outputs": [
    {
     "name": "stdout",
     "output_type": "stream",
     "text": [
      "[\"a\", \"f\"]\n",
      "[\"a\", \"g\"]\n",
      "[\"a\", \"h\"]\n",
      "[\"a\", \"i\"]\n",
      "[\"a\", \"j\"]\n",
      "[\"b\", \"f\"]\n",
      "[\"b\", \"g\"]\n",
      "[\"b\", \"h\"]\n",
      "[\"b\", \"i\"]\n",
      "[\"b\", \"j\"]\n",
      "[\"c\", \"f\"]\n",
      "[\"c\", \"g\"]\n",
      "[\"c\", \"h\"]\n",
      "[\"c\", \"i\"]\n",
      "[\"c\", \"j\"]\n",
      "[\"d\", \"f\"]\n",
      "[\"d\", \"g\"]\n",
      "[\"d\", \"h\"]\n",
      "[\"d\", \"i\"]\n",
      "[\"d\", \"j\"]\n",
      "[\"e\", \"f\"]\n",
      "[\"e\", \"g\"]\n",
      "[\"e\", \"h\"]\n",
      "[\"e\", \"i\"]\n",
      "[\"e\", \"j\"]\n"
     ]
    },
    {
     "data": {
      "text/plain": [
       "[[\"a\", \"f\"], [\"a\", \"g\"], [\"a\", \"h\"], [\"a\", \"i\"], [\"a\", \"j\"], [\"b\", \"f\"], [\"b\", \"g\"], [\"b\", \"h\"], [\"b\", \"i\"], [\"b\", \"j\"], [\"c\", \"f\"], [\"c\", \"g\"], [\"c\", \"h\"], [\"c\", \"i\"], [\"c\", \"j\"], [\"d\", \"f\"], [\"d\", \"g\"], [\"d\", \"h\"], [\"d\", \"i\"], [\"d\", \"j\"], [\"e\", \"f\"], [\"e\", \"g\"], [\"e\", \"h\"], [\"e\", \"i\"], [\"e\", \"j\"]]"
      ]
     },
     "execution_count": 13,
     "metadata": {},
     "output_type": "execute_result"
    }
   ],
   "source": [
    "#spreadsheets!\n",
    "('a'..'e').to_a.product(('f'..'j').to_a).each do |item|\n",
    "    p item\n",
    "end"
   ]
  },
  {
   "cell_type": "code",
   "execution_count": 14,
   "metadata": {},
   "outputs": [
    {
     "data": {
      "text/plain": [
       "[[\"a\", \"a\", \"a\", \"a\", \"a\", \"b\", \"b\", \"b\", \"b\", \"b\", \"c\", \"c\", \"c\", \"c\", \"c\", \"d\", \"d\", \"d\", \"d\", \"d\", \"e\", \"e\", \"e\", \"e\", \"e\"], [\"f\", \"g\", \"h\", \"i\", \"j\", \"f\", \"g\", \"h\", \"i\", \"j\", \"f\", \"g\", \"h\", \"i\", \"j\", \"f\", \"g\", \"h\", \"i\", \"j\", \"f\", \"g\", \"h\", \"i\", \"j\"]]"
      ]
     },
     "execution_count": 14,
     "metadata": {},
     "output_type": "execute_result"
    }
   ],
   "source": [
    "('a'..'e').to_a.product(('f'..'j').to_a).transpose"
   ]
  },
  {
   "cell_type": "code",
   "execution_count": 15,
   "metadata": {},
   "outputs": [
    {
     "name": "stdout",
     "output_type": "stream",
     "text": [
      "\"a\"\n",
      "\"a\"\n",
      "\"a\"\n",
      "\"a\"\n",
      "\"a\"\n",
      "\"b\"\n",
      "\"b\"\n",
      "\"b\"\n",
      "\"b\"\n",
      "\"b\"\n",
      "\"c\"\n",
      "\"c\"\n",
      "\"c\"\n",
      "\"c\"\n",
      "\"c\"\n",
      "\"d\"\n",
      "\"d\"\n",
      "\"d\"\n",
      "\"d\"\n",
      "\"d\"\n",
      "\"e\"\n",
      "\"e\"\n",
      "\"e\"\n",
      "\"e\"\n",
      "\"e\"\n"
     ]
    },
    {
     "data": {
      "text/plain": [
       "[\"a\", \"a\", \"a\", \"a\", \"a\", \"b\", \"b\", \"b\", \"b\", \"b\", \"c\", \"c\", \"c\", \"c\", \"c\", \"d\", \"d\", \"d\", \"d\", \"d\", \"e\", \"e\", \"e\", \"e\", \"e\"]"
      ]
     },
     "execution_count": 15,
     "metadata": {},
     "output_type": "execute_result"
    }
   ],
   "source": [
    "('a'..'e').to_a.product(('f'..'j').to_a).transpose.first.each do |row|\n",
    "    p row\n",
    "end"
   ]
  },
  {
   "cell_type": "code",
   "execution_count": 16,
   "metadata": {},
   "outputs": [
    {
     "data": {
      "text/plain": [
       "true"
      ]
     },
     "execution_count": 16,
     "metadata": {},
     "output_type": "execute_result"
    }
   ],
   "source": [
    "[true, true, 2, 0, '',].all?"
   ]
  },
  {
   "cell_type": "code",
   "execution_count": 17,
   "metadata": {},
   "outputs": [
    {
     "data": {
      "text/plain": [
       "true"
      ]
     },
     "execution_count": 17,
     "metadata": {},
     "output_type": "execute_result"
    }
   ],
   "source": [
    "[true, false, 2, 9, nil].any?"
   ]
  },
  {
   "cell_type": "code",
   "execution_count": 20,
   "metadata": {},
   "outputs": [
    {
     "data": {
      "text/plain": [
       "[0, 2, 4, 6, 8, 10, 12, 14, 16, 18, 20]"
      ]
     },
     "execution_count": 20,
     "metadata": {},
     "output_type": "execute_result"
    }
   ],
   "source": [
    "(0..20).step(2).to_a"
   ]
  },
  {
   "cell_type": "code",
   "execution_count": 22,
   "metadata": {},
   "outputs": [
    {
     "data": {
      "text/plain": [
       "[1, 3, 5, 7, 9, 11, 13, 15, 17, 19, 21, 23, 25, 27, 29, 31, 33, 35, 37, 39, 41, 43, 45, 47, 49, 51, 53, 55, 57, 59, 61, 63, 65, 67, 69, 71, 73, 75, 77, 79, 81, 83, 85, 87, 89, 91, 93, 95, 97, 99]"
      ]
     },
     "execution_count": 22,
     "metadata": {},
     "output_type": "execute_result"
    }
   ],
   "source": [
    "(1..100).step(2).to_a"
   ]
  },
  {
   "cell_type": "code",
   "execution_count": 23,
   "metadata": {},
   "outputs": [
    {
     "data": {
      "text/plain": [
       "[0, 2, 4, 6, 8, 10, 12, 14, 16, 18, 20, 22, 24, 26, 28, 30, 32, 34, 36, 38, 40, 42, 44, 46, 48, 50, 52, 54, 56, 58, 60, 62, 64, 66, 68, 70, 72, 74, 76, 78, 80, 82, 84, 86, 88, 90, 92, 94, 96, 98, 100]"
      ]
     },
     "execution_count": 23,
     "metadata": {},
     "output_type": "execute_result"
    }
   ],
   "source": [
    "(0..100).select do |number|\n",
    "    number.even?\n",
    "end"
   ]
  },
  {
   "cell_type": "code",
   "execution_count": null,
   "metadata": {},
   "outputs": [],
   "source": []
  }
 ],
 "metadata": {
  "kernelspec": {
   "display_name": "Ruby 2.5.0",
   "language": "ruby",
   "name": "ruby"
  },
  "language_info": {
   "file_extension": ".rb",
   "mimetype": "application/x-ruby",
   "name": "ruby",
   "version": "2.5.0"
  }
 },
 "nbformat": 4,
 "nbformat_minor": 2
}
