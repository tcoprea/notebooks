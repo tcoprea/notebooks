{
 "cells": [
  {
   "cell_type": "code",
   "execution_count": 11,
   "metadata": {},
   "outputs": [
    {
     "data": {
      "text/plain": [
       "String"
      ]
     },
     "execution_count": 11,
     "metadata": {},
     "output_type": "execute_result"
    }
   ],
   "source": [
    "# Using the TDD technique, fix the add_two method so that it works with Strings. Use this code to get started.\n",
    "\n",
    "def add_two(number)\n",
    "  if number.respond_to? :+\n",
    "    if number.respond_to? :push\n",
    "      number.push 2\n",
    "    elsif number.class == String\n",
    "        number + \"2\"\n",
    "    else\n",
    "      number + 2\n",
    "    end\n",
    "  end\n",
    "end\n",
    "\n",
    "def test_add_two\n",
    "    p add_two(1)\n",
    "    p add_two(1.0)\n",
    "    p add_two(nil)\n",
    "    p add_two({})\n",
    "    p add_two([])\n",
    "    p add_two(false)\n",
    "    p add_two(\"test\")\n",
    "end\n",
    "\n",
    "test_add_two"
   ]
  },
  {
   "cell_type": "code",
   "execution_count": null,
   "metadata": {},
   "outputs": [],
   "source": []
  }
 ],
 "metadata": {
  "kernelspec": {
   "display_name": "Ruby 2.5.0",
   "language": "ruby",
   "name": "ruby"
  },
  "language_info": {
   "file_extension": ".rb",
   "mimetype": "application/x-ruby",
   "name": "ruby",
   "version": "2.5.0"
  }
 },
 "nbformat": 4,
 "nbformat_minor": 2
}
