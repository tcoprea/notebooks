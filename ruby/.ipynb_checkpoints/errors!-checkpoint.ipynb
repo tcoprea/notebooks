{
 "cells": [
  {
   "cell_type": "code",
   "execution_count": 26,
   "metadata": {},
   "outputs": [
    {
     "data": {
      "text/plain": [
       ":initialize"
      ]
     },
     "execution_count": 26,
     "metadata": {},
     "output_type": "execute_result"
    }
   ],
   "source": [
    "class Table\n",
    "    attr_accessor :num_legs\n",
    "    \n",
    "    def initialize num_legs\n",
    "        if num_legs >= 1\n",
    "            @num_legs = num_legs\n",
    "        elsif\n",
    "            #@num_legs = 4 #default value        #assigns a default\n",
    "            #return Exception.new                #Ruby doesn't do anything w/ exceptions\n",
    "            raise ArgumentError, \"Invalid number of legs\"  #purposely breaks your code with a special message. no other code executes\n",
    "        else num_legs == 0\n",
    "            raise \"We don't sell tabletops.\"\n",
    "        end\n",
    "    end\n",
    "end"
   ]
  },
  {
   "cell_type": "code",
   "execution_count": 29,
   "metadata": {},
   "outputs": [
    {
     "data": {
      "text/plain": [
       "#<Table:0x00000000026a1ab0 @num_legs=2>"
      ]
     },
     "execution_count": 29,
     "metadata": {},
     "output_type": "execute_result"
    }
   ],
   "source": [
    "table = Table.new 2"
   ]
  },
  {
   "cell_type": "code",
   "execution_count": 32,
   "metadata": {},
   "outputs": [
    {
     "name": "stdout",
     "output_type": "stream",
     "text": [
      "Invalid number of legs\n",
      "Sorry! Try another number!\n",
      "[\"<main>:9:in `initialize'\", \"<main>:1:in `new'\", \"<main>:1:in `<main>'\", \"/var/lib/gems/2.5.0/gems/iruby-0.3/lib/iruby/backend.rb:44:in `eval'\", \"/var/lib/gems/2.5.0/gems/iruby-0.3/lib/iruby/backend.rb:44:in `eval'\", \"/var/lib/gems/2.5.0/gems/iruby-0.3/lib/iruby/backend.rb:12:in `eval'\", \"/var/lib/gems/2.5.0/gems/iruby-0.3/lib/iruby/kernel.rb:87:in `execute_request'\", \"/var/lib/gems/2.5.0/gems/iruby-0.3/lib/iruby/kernel.rb:47:in `dispatch'\", \"/var/lib/gems/2.5.0/gems/iruby-0.3/lib/iruby/kernel.rb:37:in `run'\", \"/var/lib/gems/2.5.0/gems/iruby-0.3/lib/iruby/command.rb:70:in `run_kernel'\", \"/var/lib/gems/2.5.0/gems/iruby-0.3/lib/iruby/command.rb:34:in `run'\", \"/var/lib/gems/2.5.0/gems/iruby-0.3/bin/iruby:5:in `<top (required)>'\", \"/usr/local/bin/iruby:23:in `load'\", \"/usr/local/bin/iruby:23:in `<main>'\"]\n",
      "Life goes on...\n"
     ]
    }
   ],
   "source": [
    "begin                                 #arbitrary block of code--quarantine potentially bad code\n",
    "    weird_table = Table.new -1\n",
    "rescue ArgumentError => exception             #stops that one bad line of code and continues to the next line\n",
    "    puts exception.message\n",
    "    puts \"Sorry! Try another number!\"\n",
    "    p exception.backtrace   #gives you an array of all the lines that broke when your program crashed\n",
    "end\n",
    "puts \"Life goes on...\""
   ]
  },
  {
   "cell_type": "code",
   "execution_count": null,
   "metadata": {},
   "outputs": [],
   "source": [
    "#custom error\n",
    "class PermissionDeniedError < StandardError\n",
    "\n",
    "  attr_reader :action\n",
    "\n",
    "  def initialize(message, action)\n",
    "    # Call the parent's constructor to set the message\n",
    "    super(message)\n",
    "\n",
    "    # Store the action in an instance variable\n",
    "    @action = action\n",
    "  end\n",
    "\n",
    "end\n",
    "\n",
    "# Then, when the user tries to delete something they don't\n",
    "# have permission to delete, you might do something like this:\n",
    "raise PermissionDeniedError.new(\"Permission Denied\", :delete)"
   ]
  },
  {
   "cell_type": "code",
   "execution_count": null,
   "metadata": {},
   "outputs": [],
   "source": [
    "class Truck\n",
    "    attr_accessor :num_wheels\n",
    "def initialize num_wheels\n",
    "    if num_wheels<=18\n",
    "        @num_wheels=num_wheels\n",
    "    elsif \n",
    "        raise ArgumentError, \"Pick a number from 4 to 18!\"\n",
    "    else num_wheels == 0\n",
    "        raise Argumenterror, \"Your truck has to have wheels!\"\n",
    "    end\n",
    "end"
   ]
  },
  {
   "cell_type": "code",
   "execution_count": null,
   "metadata": {},
   "outputs": [],
   "source": [
    "class WrongTryAgain < StandardError\n",
    "    def initialize(msg=\"Beep! Wrong! Try again!\")\n",
    "        super(msg)\n",
    "    end\n",
    "end\n",
    "\n",
    "if true\n",
    "    raise WrongTryAgain,msg\n",
    "end"
   ]
  },
  {
   "cell_type": "code",
   "execution_count": null,
   "metadata": {},
   "outputs": [],
   "source": [
    "class MyError < StandardError\n",
    "    def initialize(msg=\"Beep! Wrong! Try again!\")\n",
    "        super(msg)\n",
    "    end\n",
    "end\n",
    "\n",
    "def introduce(name)\n",
    "  unless name.is_a?(String)\n",
    "    raise MyError\n",
    "  end\n",
    "  puts \"My name is #{name}.\"\n",
    "end\n",
    "\n",
    "introduce(4)"
   ]
  },
  {
   "cell_type": "code",
   "execution_count": null,
   "metadata": {},
   "outputs": [],
   "source": []
  }
 ],
 "metadata": {
  "kernelspec": {
   "display_name": "Ruby 2.5.0",
   "language": "ruby",
   "name": "ruby"
  },
  "language_info": {
   "file_extension": ".rb",
   "mimetype": "application/x-ruby",
   "name": "ruby",
   "version": "2.5.0"
  }
 },
 "nbformat": 4,
 "nbformat_minor": 2
}
