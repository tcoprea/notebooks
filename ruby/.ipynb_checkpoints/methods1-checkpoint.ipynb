{
 "cells": [
  {
   "cell_type": "markdown",
   "metadata": {},
   "source": [
    "methods are kinds of functions, but not all functions are methods.\n",
    "methods are attached to objects; everything in Ruby is an object"
   ]
  },
  {
   "cell_type": "code",
   "execution_count": 44,
   "metadata": {},
   "outputs": [
    {
     "data": {
      "text/plain": [
       "[[\"Life at Wyncode\", \"Tatiana\", 100, false], [\"To Kill a Mockingbird\", \"Harper Lee\", 160, true], [\"Frankenstein\", \"Mary Shelley\"], [\"The Jungle\", \"Upton Sinclair\", nil]]"
      ]
     },
     "execution_count": 44,
     "metadata": {},
     "output_type": "execute_result"
    }
   ],
   "source": [
    "book_list = [\n",
    "    ['Life at Wyncode', 'Tatiana', 100, false],\n",
    "    ['To Kill a Mockingbird', 'Harper Lee',160, true],\n",
    "    ['Frankenstein', 'Mary Shelley'],\n",
    "    ['The Jungle', 'Upton Sinclair', nil],\n",
    "    ]"
   ]
  },
  {
   "cell_type": "code",
   "execution_count": 25,
   "metadata": {},
   "outputs": [
    {
     "data": {
      "text/plain": [
       ":create_bookE"
      ]
     },
     "execution_count": 25,
     "metadata": {},
     "output_type": "execute_result"
    }
   ],
   "source": [
    "def create_bookE(attributes)\n",
    "    #procedure\n",
    "    return attributes #explicit return\n",
    "end \n",
    "#you do not need parentheses to call a method in Ruby"
   ]
  },
  {
   "cell_type": "code",
   "execution_count": 30,
   "metadata": {},
   "outputs": [
    {
     "data": {
      "text/plain": [
       ":create_bookI"
      ]
     },
     "execution_count": 30,
     "metadata": {},
     "output_type": "execute_result"
    }
   ],
   "source": [
    "def create_bookI attributes\n",
    "    #procedure\n",
    "    puts attributes #implicit return\n",
    "end "
   ]
  },
  {
   "cell_type": "code",
   "execution_count": 6,
   "metadata": {},
   "outputs": [
    {
     "data": {
      "text/plain": [
       "[:&, :to_c, :nil?, :===, :to_s, :inspect, :to_r, :to_i, :to_a, :to_h, :rationalize, :|, :to_f, :^, :to_json, :instance_variable_set, :instance_variable_defined?, :remove_instance_variable, :instance_of?, :kind_of?, :is_a?, :tap, :instance_variable_get, :public_methods, :instance_variables, :method, :singleton_method, :define_singleton_method, :public_send, :public_method, :extend, :to_enum, :enum_for, :pp, :<=>, :=~, :!~, :eql?, :respond_to?, :freeze, :object_id, :send, :display, :hash, :class, :singleton_class, :clone, :dup, :itself, :taint, :yield_self, :untaint, :tainted?, :untrusted?, :untrust, :frozen?, :trust, :singleton_methods, :methods, :protected_methods, :private_methods, :!, :equal?, :instance_eval, :instance_exec, :==, :!=, :__id__, :__send__]"
      ]
     },
     "execution_count": 6,
     "metadata": {},
     "output_type": "execute_result"
    }
   ],
   "source": [
    "create_book.methods"
   ]
  },
  {
   "cell_type": "code",
   "execution_count": 7,
   "metadata": {},
   "outputs": [
    {
     "data": {
      "text/plain": [
       "NilClass"
      ]
     },
     "execution_count": 7,
     "metadata": {},
     "output_type": "execute_result"
    }
   ],
   "source": [
    "create_book.class"
   ]
  },
  {
   "cell_type": "code",
   "execution_count": 8,
   "metadata": {},
   "outputs": [
    {
     "data": {
      "text/plain": [
       "[:new, :json_creatable?, :allocate, :superclass, :<=>, :autoload, :<=, :>=, :==, :===, :autoload?, :included_modules, :include?, :name, :ancestors, :attr, :attr_reader, :attr_writer, :attr_accessor, :instance_methods, :public_instance_methods, :protected_instance_methods, :private_instance_methods, :constants, :const_get, :const_set, :const_defined?, :class_variables, :remove_class_variable, :class_variable_get, :class_variable_set, :class_variable_defined?, :public_constant, :freeze, :inspect, :deprecate_constant, :private_constant, :const_missing, :singleton_class?, :include, :prepend, :module_eval, :remove_method, :class_eval, :<, :alias_method, :>, :public_method_defined?, :module_exec, :class_exec, :undef_method, :private_method_defined?, :public_class_method, :to_s, :method_defined?, :define_method, :protected_method_defined?, :private_class_method, :instance_method, :public_instance_method, :to_json, :instance_variable_set, :instance_variable_defined?, :remove_instance_variable, :instance_of?, :kind_of?, :is_a?, :tap, :instance_variable_get, :public_methods, :instance_variables, :method, :singleton_method, :define_singleton_method, :public_send, :public_method, :extend, :to_enum, :enum_for, :pp, :=~, :!~, :eql?, :respond_to?, :object_id, :send, :display, :nil?, :hash, :class, :singleton_class, :clone, :dup, :itself, :taint, :yield_self, :untaint, :tainted?, :untrusted?, :untrust, :frozen?, :trust, :singleton_methods, :methods, :protected_methods, :private_methods, :!, :equal?, :instance_eval, :instance_exec, :!=, :__id__, :__send__]"
      ]
     },
     "execution_count": 8,
     "metadata": {},
     "output_type": "execute_result"
    }
   ],
   "source": [
    "Object.methods"
   ]
  },
  {
   "cell_type": "code",
   "execution_count": 27,
   "metadata": {},
   "outputs": [
    {
     "data": {
      "text/plain": [
       "[\"Life at Wyncode\", \"Tatiana\", 100, false]"
      ]
     },
     "execution_count": 27,
     "metadata": {},
     "output_type": "execute_result"
    }
   ],
   "source": [
    "create_bookE(book_list.first) #when in doubt, make it explicit!"
   ]
  },
  {
   "cell_type": "code",
   "execution_count": 28,
   "metadata": {},
   "outputs": [
    {
     "name": "stdout",
     "output_type": "stream",
     "text": [
      "[\"Life at Wyncode\", \"Tatiana\", 100, false]\n"
     ]
    },
    {
     "data": {
      "text/plain": [
       "[\"Life at Wyncode\", \"Tatiana\", 100, false]"
      ]
     },
     "execution_count": 28,
     "metadata": {},
     "output_type": "execute_result"
    }
   ],
   "source": [
    "p create_bookI(book_list.first) "
   ]
  },
  {
   "cell_type": "code",
   "execution_count": 29,
   "metadata": {},
   "outputs": [],
   "source": [
    "#puts vs p = the return of puts is always nil; the return of p is the thing that you pass it"
   ]
  },
  {
   "cell_type": "markdown",
   "metadata": {},
   "source": [
    "p & puts are built-in methods in ruby; puts calls .to_s (return is nil); p calls inspect"
   ]
  },
  {
   "cell_type": "code",
   "execution_count": 50,
   "metadata": {},
   "outputs": [
    {
     "data": {
      "text/plain": [
       ":create_book"
      ]
     },
     "execution_count": 50,
     "metadata": {},
     "output_type": "execute_result"
    }
   ],
   "source": [
    "def create_book(title, author, pages, read=false) #this is not an object; this is a hash:\n",
    "    #you can name these parameters anything you want (a,b,c,d) etc\n",
    "    #returns a hash with the following keys:\n",
    "   keys = #[title:,author:,pages:,read:,]\n",
    "   \n",
    "   p({\n",
    "        title: title,\n",
    "        author: author,\n",
    "        pages: pages,\n",
    "        read: read,\n",
    "    })\n",
    "   \n",
    "end    "
   ]
  },
  {
   "cell_type": "code",
   "execution_count": 46,
   "metadata": {},
   "outputs": [],
   "source": [
    "title = book_list.last.first\n",
    "author = book_list.last[1]\n",
    "pages = book_list.last[2]\n",
    "read = book_list.last[3]\n"
   ]
  },
  {
   "cell_type": "code",
   "execution_count": 54,
   "metadata": {},
   "outputs": [
    {
     "name": "stdout",
     "output_type": "stream",
     "text": [
      "{:title=>\"The Jungle\", :author=>\"Upton Sinclair\", :pages=>nil, :read=>false}\n"
     ]
    },
    {
     "data": {
      "text/plain": [
       "{:title=>\"The Jungle\", :author=>\"Upton Sinclair\", :pages=>nil, :read=>false}"
      ]
     },
     "execution_count": 54,
     "metadata": {},
     "output_type": "execute_result"
    }
   ],
   "source": [
    "create_book(*book_list.last) #splat operator, same as ... in js, aka spread operator"
   ]
  },
  {
   "cell_type": "code",
   "execution_count": null,
   "metadata": {},
   "outputs": [],
   "source": [
    "#js has forEach; this is Ruby's equiv\n",
    "book_list.each { } #this is a code block; not a hash"
   ]
  }
 ],
 "metadata": {
  "kernelspec": {
   "display_name": "Ruby 2.5.0",
   "language": "ruby",
   "name": "ruby"
  },
  "language_info": {
   "file_extension": ".rb",
   "mimetype": "application/x-ruby",
   "name": "ruby",
   "version": "2.5.0"
  }
 },
 "nbformat": 4,
 "nbformat_minor": 2
}
