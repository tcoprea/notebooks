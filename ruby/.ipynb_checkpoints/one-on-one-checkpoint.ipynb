{
 "cells": [
  {
   "cell_type": "code",
   "execution_count": 8,
   "metadata": {},
   "outputs": [
    {
     "name": "stdout",
     "output_type": "stream",
     "text": [
      "The square root of 1 is 1.0.\n",
      "The square root of 3 is 1.7320508075688772.\n",
      "The square root of 5 is 2.23606797749979.\n",
      "The square root of 7 is 2.6457513110645907.\n",
      "The square root of 9 is 3.0.\n",
      "The square root of 11 is 3.3166247903554.\n",
      "The square root of 13 is 3.605551275463989.\n",
      "The square root of 15 is 3.872983346207417.\n",
      "The square root of 17 is 4.123105625617661.\n",
      "The square root of 19 is 4.358898943540674.\n",
      "The square root of 21 is 4.58257569495584.\n",
      "The square root of 23 is 4.795831523312719.\n",
      "The square root of 25 is 5.0.\n"
     ]
    }
   ],
   "source": [
    "i = 1\n",
    "while i <= 25 do\n",
    "    puts \"The square root of #{i} is #{Math.sqrt(i)}.\"\n",
    "    i+=2\n",
    "end"
   ]
  },
  {
   "cell_type": "raw",
   "metadata": {},
   "source": [
    "Create a method named element_index that accepts two arguments named element and my_array. If element is in my_array, then return (not output) the index (or position) of element within my_array. If element isn't in my_array, return (not output) -1. YOU MUST USE LOOPS. Your method can be tested like this:\n",
    "\n",
    "puts element_index(\"b\", [\"a\", \"b\", \"c\"])\n",
    "# should output 1\n",
    "\n",
    "puts element_index(\"hello\", [\"a\", \"b\", \"c\"])\n",
    "# should output -1\n",
    "Hints:\n",
    "\n",
    "Use our tests in your code to test your method.\n",
    "Approaches\n",
    "Baby steps: Write a method. Try to call it. Add some arguments to the method. Try to call it. Inside the method, p each of the arguments. Try to call it. Keep going.\n",
    "TDD: Don't write anything. Just run the tests we gave you. What does the error message say? Fix the error. Did you get another error? Fix that one too. Keep going until there are no more errors.\n",
    "You're looking for a needle in a haystack, but instead of returning true (found it) or false (didn't find it), we want to know where you found the needle (the index/position of the element in the array)."
   ]
  },
  {
   "cell_type": "code",
   "execution_count": 11,
   "metadata": {},
   "outputs": [
    {
     "data": {
      "text/plain": [
       ":element_index"
      ]
     },
     "execution_count": 11,
     "metadata": {},
     "output_type": "execute_result"
    }
   ],
   "source": [
    "def element_index (element, my_array)\n",
    "    i=0\n",
    "    while i<my_array.length do\n",
    "        puts i\n",
    "        i += 1\n",
    "    end\n",
    "    \n",
    "\n",
    "# if my_array.include? element\n",
    "#     return element[i]\n",
    "# else\n",
    "#     return -1\n",
    "\n",
    "end"
   ]
  },
  {
   "cell_type": "code",
   "execution_count": 13,
   "metadata": {},
   "outputs": [
    {
     "name": "stdout",
     "output_type": "stream",
     "text": [
      "\n"
     ]
    }
   ],
   "source": [
    "puts element_index(\"b\", [\"a\", \"b\", \"c\"])"
   ]
  },
  {
   "cell_type": "code",
   "execution_count": null,
   "metadata": {},
   "outputs": [],
   "source": []
  }
 ],
 "metadata": {
  "kernelspec": {
   "display_name": "Ruby 2.5.0",
   "language": "ruby",
   "name": "ruby"
  },
  "language_info": {
   "file_extension": ".rb",
   "mimetype": "application/x-ruby",
   "name": "ruby",
   "version": "2.5.0"
  }
 },
 "nbformat": 4,
 "nbformat_minor": 2
}
