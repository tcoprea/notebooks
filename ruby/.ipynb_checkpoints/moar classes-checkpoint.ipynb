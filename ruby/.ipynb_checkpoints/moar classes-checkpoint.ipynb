{
 "cells": [
  {
   "cell_type": "code",
   "execution_count": 14,
   "metadata": {},
   "outputs": [
    {
     "data": {
      "text/plain": [
       ":talk"
      ]
     },
     "execution_count": 14,
     "metadata": {},
     "output_type": "execute_result"
    }
   ],
   "source": [
    "class Cup\n",
    "    def initialize #starts as a private method\n",
    "        @color = \"black\"   #this color attr is private; can't refer to it outside of class unless w/ reader method\n",
    "    end\n",
    "    \n",
    "    def drink\n",
    "    end\n",
    "    \n",
    "    def expose\n",
    "        talk\n",
    "    end\n",
    "    \n",
    "    private #you can only refer to this method inside this class\n",
    "    def talk\n",
    "        puts \"Hello!\"\n",
    "    end\n",
    "end"
   ]
  },
  {
   "cell_type": "code",
   "execution_count": 6,
   "metadata": {},
   "outputs": [
    {
     "name": "stdout",
     "output_type": "stream",
     "text": [
      "#<Cup:0x00000000028be0c8 @color=\"black\">\n"
     ]
    },
    {
     "data": {
      "text/plain": [
       "#<Cup:0x00000000028be0c8 @color=\"black\">"
      ]
     },
     "execution_count": 6,
     "metadata": {},
     "output_type": "execute_result"
    }
   ],
   "source": [
    "black_cup = Cup.new\n",
    "p black_cup"
   ]
  },
  {
   "cell_type": "code",
   "execution_count": 4,
   "metadata": {},
   "outputs": [],
   "source": [
    "black_cup.drink"
   ]
  },
  {
   "cell_type": "code",
   "execution_count": 12,
   "metadata": {},
   "outputs": [
    {
     "name": "stdout",
     "output_type": "stream",
     "text": [
      "Hello!\n"
     ]
    }
   ],
   "source": [
    "black_cup.expose #you have to call this method in order to use the private method"
   ]
  },
  {
   "cell_type": "code",
   "execution_count": 16,
   "metadata": {},
   "outputs": [
    {
     "name": "stdout",
     "output_type": "stream",
     "text": [
      "Hello!\n"
     ]
    }
   ],
   "source": [
    "black_cup.send :talk #the backdoor to calling a private method"
   ]
  },
  {
   "cell_type": "code",
   "execution_count": 22,
   "metadata": {},
   "outputs": [
    {
     "data": {
      "text/plain": [
       ":deposit"
      ]
     },
     "execution_count": 22,
     "metadata": {},
     "output_type": "execute_result"
    }
   ],
   "source": [
    "class Bank\n",
    "    def transfer\n",
    "        withdraw\n",
    "        deposit\n",
    "    end\n",
    "    \n",
    "    private\n",
    "    def withdraw\n",
    "    end\n",
    "    \n",
    "    def deposit\n",
    "    end\n",
    "end"
   ]
  },
  {
   "cell_type": "code",
   "execution_count": 23,
   "metadata": {},
   "outputs": [],
   "source": [
    "b = Bank.new\n",
    "b.transfer"
   ]
  },
  {
   "cell_type": "code",
   "execution_count": 24,
   "metadata": {},
   "outputs": [],
   "source": [
    "#how does inheritance work with public and private methods?"
   ]
  },
  {
   "cell_type": "code",
   "execution_count": 70,
   "metadata": {},
   "outputs": [
    {
     "data": {
      "text/plain": [
       ":repeat"
      ]
     },
     "execution_count": 70,
     "metadata": {},
     "output_type": "execute_result"
    }
   ],
   "source": [
    "class Parent\n",
    "    def go\n",
    "        \"I am going\"\n",
    "    end\n",
    "    \n",
    "    def repeat (arg)\n",
    "        puts arg\n",
    "    end\n",
    "    \n",
    "    private   #the Child will inherit this method along w/ private status. Works in Ruby but not in Java, C++, etc.\n",
    "    def speak\n",
    "        puts \"I'm a person\"\n",
    "    end\n",
    "    \n",
    "end\n",
    "\n",
    "class Child < Parent\n",
    "    def expose\n",
    "        speak\n",
    "    end\n",
    "        \n",
    "    def chat  #inheritance does not flow upward\n",
    "    end\n",
    "    \n",
    "    def go\n",
    "        super + \" to school!\"               #automatically fwd'd arguments\n",
    "        puts \"...not!\"                   #super = \"embrace & extend\"\n",
    "    end\n",
    "    \n",
    "    def repeat\n",
    "        super (\"Goo goo\")\n",
    "    end\n",
    "    \n",
    "end"
   ]
  },
  {
   "cell_type": "code",
   "execution_count": 56,
   "metadata": {},
   "outputs": [
    {
     "name": "stdout",
     "output_type": "stream",
     "text": [
      "I'm a person\n"
     ]
    }
   ],
   "source": [
    "c = Child.new\n",
    "p = Parent.new\n",
    "c.expose"
   ]
  },
  {
   "cell_type": "markdown",
   "metadata": {},
   "source": [
    "### overriding = when a child inherits a method and changes it, it will pass on the changed methods to its own children"
   ]
  },
  {
   "cell_type": "code",
   "execution_count": 39,
   "metadata": {},
   "outputs": [
    {
     "name": "stdout",
     "output_type": "stream",
     "text": [
      "I'm a person\n"
     ]
    }
   ],
   "source": [
    "puts c.expose"
   ]
  },
  {
   "cell_type": "code",
   "execution_count": 50,
   "metadata": {},
   "outputs": [
    {
     "name": "stdout",
     "output_type": "stream",
     "text": [
      "I am going to school!\n",
      "I am going\n"
     ]
    }
   ],
   "source": [
    "puts c.go #super in action! super is an instance. It is the object itself\n",
    "puts p.go"
   ]
  },
  {
   "cell_type": "markdown",
   "metadata": {},
   "source": [
    "### super with args"
   ]
  },
  {
   "cell_type": "code",
   "execution_count": 59,
   "metadata": {},
   "outputs": [
    {
     "name": "stdout",
     "output_type": "stream",
     "text": [
      "Hi\n"
     ]
    }
   ],
   "source": [
    "p.repeat(\"Hi\")"
   ]
  },
  {
   "cell_type": "code",
   "execution_count": 66,
   "metadata": {},
   "outputs": [
    {
     "name": "stdout",
     "output_type": "stream",
     "text": [
      "Goo goo\n"
     ]
    }
   ],
   "source": [
    "c.repeat"
   ]
  },
  {
   "cell_type": "code",
   "execution_count": 73,
   "metadata": {},
   "outputs": [
    {
     "name": "stdout",
     "output_type": "stream",
     "text": [
      "...not!\n"
     ]
    }
   ],
   "source": [
    "c.go"
   ]
  },
  {
   "cell_type": "code",
   "execution_count": null,
   "metadata": {},
   "outputs": [],
   "source": []
  }
 ],
 "metadata": {
  "kernelspec": {
   "display_name": "Ruby 2.5.0",
   "language": "ruby",
   "name": "ruby"
  },
  "language_info": {
   "file_extension": ".rb",
   "mimetype": "application/x-ruby",
   "name": "ruby",
   "version": "2.5.0"
  }
 },
 "nbformat": 4,
 "nbformat_minor": 2
}
