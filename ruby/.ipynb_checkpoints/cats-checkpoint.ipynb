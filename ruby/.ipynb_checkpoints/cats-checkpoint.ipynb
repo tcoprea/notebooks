{
 "cells": [
  {
   "cell_type": "markdown",
   "metadata": {},
   "source": [
    "## cats in hats"
   ]
  },
  {
   "cell_type": "code",
   "execution_count": null,
   "metadata": {},
   "outputs": [],
   "source": [
    "# pass is equal to incrementer\n",
    "# pass = pass number\n",
    "# i = current cat visiting\n",
    "\n",
    "cats = Hash[(1..10).map { |cat| [cat, hat=true] }]\n",
    "puts cats\n",
    "\n",
    "# x=1\n",
    "# while x<=10 do\n",
    "#     cats.each {|cat| hat=false}\n",
    "#     p cats\n",
    "#     x+=1\n",
    "# end\n",
    "\n",
    "# pass=1\n",
    "# while pass<=4 do\n",
    "#     i=0\n",
    "#     while i<10 do\n",
    "#         puts i    \n",
    "#         i+=pass\n",
    "#     end\n",
    "#     puts \"----------\"\n",
    "#     pass+=1\n",
    "# end"
   ]
  },
  {
   "cell_type": "code",
   "execution_count": null,
   "metadata": {},
   "outputs": [],
   "source": []
  }
 ],
 "metadata": {
  "kernelspec": {
   "display_name": "Ruby 2.5.0",
   "language": "ruby",
   "name": "ruby"
  },
  "language_info": {
   "file_extension": ".rb",
   "mimetype": "application/x-ruby",
   "name": "ruby",
   "version": "2.5.0"
  }
 },
 "nbformat": 4,
 "nbformat_minor": 2
}
