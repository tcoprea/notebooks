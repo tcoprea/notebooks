{
 "cells": [
  {
   "cell_type": "code",
   "execution_count": 26,
   "metadata": {},
   "outputs": [
    {
     "data": {
      "text/plain": [
       "Class"
      ]
     },
     "execution_count": 26,
     "metadata": {},
     "output_type": "execute_result"
    }
   ],
   "source": [
    "class Pizza\n",
    "    #@@num_pizzas=0 #available only between Class and end\n",
    "    @@pizzas=[]\n",
    "    attr_accessor :toppings\n",
    "    \n",
    "    def initialize\n",
    "       # @@num_pizzas+=1\n",
    "        @@pizzas << self         #instance scope\n",
    "        @toppings = toppings\n",
    "    end\n",
    "           \n",
    "    def self.has_pizza? #defining not what the objects of this factory can do, but what all pizza shops can do\n",
    "        true\n",
    "    end\n",
    "    #class attr reader:\n",
    "    def self.num_pizzas\n",
    "        #@@num_pizzas #@@=attr of the pizza shop, class variable\n",
    "    end\n",
    "    \n",
    "    def self.pizzas\n",
    "        @@pizzas\n",
    "    end\n",
    "    def spoil_all_the_pizza\n",
    "        @@pizzas.each do |pizza|\n",
    "            pizza.toppings = 'anchovies'\n",
    "        end\n",
    "    end\n",
    "end \n",
    "\n",
    "Pizza.class"
   ]
  },
  {
   "cell_type": "code",
   "execution_count": 15,
   "metadata": {},
   "outputs": [
    {
     "data": {
      "text/plain": [
       "#<Pizza:0x0000000002ba14e8>"
      ]
     },
     "execution_count": 15,
     "metadata": {},
     "output_type": "execute_result"
    }
   ],
   "source": [
    "slice = Pizza.new"
   ]
  },
  {
   "cell_type": "code",
   "execution_count": 25,
   "metadata": {},
   "outputs": [
    {
     "ename": "NoMethodError",
     "evalue": "undefined method `spoil_all_the_pizza' for #<Pizza:0x0000000002ba14e8>",
     "execution_count": 25,
     "output_type": "error",
     "status": "error",
     "traceback": [
      "\u001b[31mNoMethodError\u001b[0m: undefined method `spoil_all_the_pizza' for #<Pizza:0x0000000002ba14e8>",
      "\u001b[37m<main>:in `<main>'\u001b[0m",
      "\u001b[37m/var/lib/gems/2.5.0/gems/iruby-0.3/lib/iruby/backend.rb:44:in `eval'\u001b[0m",
      "\u001b[37m/var/lib/gems/2.5.0/gems/iruby-0.3/lib/iruby/backend.rb:44:in `eval'\u001b[0m",
      "\u001b[37m/var/lib/gems/2.5.0/gems/iruby-0.3/lib/iruby/backend.rb:12:in `eval'\u001b[0m",
      "\u001b[37m/var/lib/gems/2.5.0/gems/iruby-0.3/lib/iruby/kernel.rb:87:in `execute_request'\u001b[0m",
      "\u001b[37m/var/lib/gems/2.5.0/gems/iruby-0.3/lib/iruby/kernel.rb:47:in `dispatch'\u001b[0m",
      "\u001b[37m/var/lib/gems/2.5.0/gems/iruby-0.3/lib/iruby/kernel.rb:37:in `run'\u001b[0m",
      "\u001b[37m/var/lib/gems/2.5.0/gems/iruby-0.3/lib/iruby/command.rb:70:in `run_kernel'\u001b[0m",
      "\u001b[37m/var/lib/gems/2.5.0/gems/iruby-0.3/lib/iruby/command.rb:34:in `run'\u001b[0m",
      "\u001b[37m/var/lib/gems/2.5.0/gems/iruby-0.3/bin/iruby:5:in `<top (required)>'\u001b[0m",
      "\u001b[37m/usr/local/bin/iruby:23:in `load'\u001b[0m",
      "\u001b[37m/usr/local/bin/iruby:23:in `<main>'\u001b[0m"
     ]
    }
   ],
   "source": [
    "slice.spoil_all_the_pizza"
   ]
  },
  {
   "cell_type": "code",
   "execution_count": null,
   "metadata": {},
   "outputs": [],
   "source": []
  }
 ],
 "metadata": {
  "kernelspec": {
   "display_name": "Ruby 2.5.0",
   "language": "ruby",
   "name": "ruby"
  },
  "language_info": {
   "file_extension": ".rb",
   "mimetype": "application/x-ruby",
   "name": "ruby",
   "version": "2.5.0"
  }
 },
 "nbformat": 4,
 "nbformat_minor": 2
}
