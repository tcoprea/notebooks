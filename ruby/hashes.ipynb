{
 "cells": [
  {
   "cell_type": "code",
   "execution_count": 1,
   "metadata": {},
   "outputs": [
    {
     "data": {
      "text/plain": [
       "{}"
      ]
     },
     "execution_count": 1,
     "metadata": {},
     "output_type": "execute_result"
    }
   ],
   "source": [
    "h = {} #hash literal"
   ]
  },
  {
   "cell_type": "code",
   "execution_count": 3,
   "metadata": {},
   "outputs": [
    {
     "data": {
      "text/plain": [
       "{}"
      ]
     },
     "execution_count": 3,
     "metadata": {},
     "output_type": "execute_result"
    }
   ],
   "source": [
    "h = Hash.new #general purpose hash declaration"
   ]
  },
  {
   "cell_type": "code",
   "execution_count": 4,
   "metadata": {},
   "outputs": [
    {
     "data": {
      "text/plain": [
       "{:quiz1=>92, :quiz2=>87}"
      ]
     },
     "execution_count": 4,
     "metadata": {},
     "output_type": "execute_result"
    }
   ],
   "source": [
    "quiz_scores = {\n",
    "    quiz1: 92,\n",
    "    quiz2: 87 \n",
    "    }"
   ]
  },
  {
   "cell_type": "code",
   "execution_count": 13,
   "metadata": {},
   "outputs": [
    {
     "data": {
      "text/plain": [
       "{2014=>\"Ohio State\", 2013=>\"Florida State\", 2012=>\"Alabama\", 2011=>\"Alabama\", 2010=>\"Auburn\", 2009=>\"Alabama\", 2008=>\"Florida\", 2007=>\"LSU\", 2006=>\"Florida\", 2005=>\"Texas\"}"
      ]
     },
     "execution_count": 13,
     "metadata": {},
     "output_type": "execute_result"
    }
   ],
   "source": [
    "national_champs = {\n",
    "    2014=> 'Ohio State',        # => hash rocket! \n",
    "    2013=> 'Florida State',     # you cannot create a symbol that begins with a number. \n",
    "    2012=> 'Alabama',\n",
    "    2011=> 'Alabama',\n",
    "    2010=> 'Auburn',\n",
    "    2009=> 'Alabama',\n",
    "    2008=> 'Florida',\n",
    "    2007=> 'LSU',\n",
    "    2006=> 'Florida',\n",
    "    2005=> 'Texas'\n",
    "    }\n"
   ]
  },
  {
   "cell_type": "code",
   "execution_count": 102,
   "metadata": {},
   "outputs": [
    {
     "data": {
      "text/plain": [
       "[2014, 2013, 2012, 2011, 2010, 2009, 2008, 2007, 2006, 2005]"
      ]
     },
     "execution_count": 102,
     "metadata": {},
     "output_type": "execute_result"
    }
   ],
   "source": [
    "national_champs.keys"
   ]
  },
  {
   "cell_type": "code",
   "execution_count": 103,
   "metadata": {},
   "outputs": [
    {
     "data": {
      "text/plain": [
       "[\"Ohio State\", \"Florida State\", \"Alabama\", \"Alabama\", \"Auburn\", \"Alabama\", \"Florida\", \"LSU\", \"Florida\", \"Texas\"]"
      ]
     },
     "execution_count": 103,
     "metadata": {},
     "output_type": "execute_result"
    }
   ],
   "source": [
    "national_champs.values"
   ]
  },
  {
   "cell_type": "code",
   "execution_count": 16,
   "metadata": {},
   "outputs": [
    {
     "data": {
      "text/plain": [
       "{:Denmark=>\"Copenhagen\", :Sweden=>\"Stockholm\", :Germany=>\"Berlin\", :France=>\"Paris\", :Spain=>\"Madrid\"}"
      ]
     },
     "execution_count": 16,
     "metadata": {},
     "output_type": "execute_result"
    }
   ],
   "source": [
    "country_capitals = { Denmark: \"Copenhagen\", Sweden: \"Stockholm\", Germany: \"Berlin\", France: \"Paris\", Spain: \"Madrid\"}"
   ]
  },
  {
   "cell_type": "code",
   "execution_count": 86,
   "metadata": {},
   "outputs": [
    {
     "data": {
      "text/plain": [
       "\"Stockholm\""
      ]
     },
     "execution_count": 86,
     "metadata": {},
     "output_type": "execute_result"
    }
   ],
   "source": [
    "sweden_capital = country_capitals[:Sweden]"
   ]
  },
  {
   "cell_type": "code",
   "execution_count": 24,
   "metadata": {},
   "outputs": [
    {
     "data": {
      "text/plain": [
       "false"
      ]
     },
     "execution_count": 24,
     "metadata": {},
     "output_type": "execute_result"
    }
   ],
   "source": [
    "country_capitals.key?(\"Italy\")"
   ]
  },
  {
   "cell_type": "code",
   "execution_count": 104,
   "metadata": {},
   "outputs": [
    {
     "data": {
      "text/plain": [
       "false"
      ]
     },
     "execution_count": 104,
     "metadata": {},
     "output_type": "execute_result"
    }
   ],
   "source": [
    "country_capitals.has_key?(\"France\")"
   ]
  },
  {
   "cell_type": "code",
   "execution_count": 26,
   "metadata": {},
   "outputs": [
    {
     "data": {
      "text/plain": [
       "true"
      ]
     },
     "execution_count": 26,
     "metadata": {},
     "output_type": "execute_result"
    }
   ],
   "source": [
    "country_capitals.key?(:France)"
   ]
  },
  {
   "cell_type": "code",
   "execution_count": 27,
   "metadata": {},
   "outputs": [
    {
     "data": {
      "text/plain": [
       "false"
      ]
     },
     "execution_count": 27,
     "metadata": {},
     "output_type": "execute_result"
    }
   ],
   "source": [
    "country_capitals.key?(:france)"
   ]
  },
  {
   "cell_type": "code",
   "execution_count": 77,
   "metadata": {},
   "outputs": [
    {
     "data": {
      "text/plain": [
       "{\"Little Women\"=>\"Louisa May Alcott\", \"Robinson Crusoe\"=>\"Daniel Defoe\"}"
      ]
     },
     "execution_count": 77,
     "metadata": {},
     "output_type": "execute_result"
    }
   ],
   "source": [
    "authors = {\"Little Women\" => \"Louisa May Alcott\", \"Robinson Crusoe\" => \"Daniel Defoe\"}"
   ]
  },
  {
   "cell_type": "code",
   "execution_count": 105,
   "metadata": {},
   "outputs": [
    {
     "data": {
      "text/plain": [
       "\"unknown\""
      ]
     },
     "execution_count": 105,
     "metadata": {},
     "output_type": "execute_result"
    }
   ],
   "source": [
    "authors.default = \"unknown\""
   ]
  },
  {
   "cell_type": "code",
   "execution_count": 108,
   "metadata": {},
   "outputs": [
    {
     "data": {
      "text/plain": [
       "\"unknown\""
      ]
     },
     "execution_count": 108,
     "metadata": {},
     "output_type": "execute_result"
    }
   ],
   "source": [
    "authors[\"To Kill a Mockingbird\"]"
   ]
  },
  {
   "cell_type": "code",
   "execution_count": 109,
   "metadata": {},
   "outputs": [
    {
     "name": "stdout",
     "output_type": "stream",
     "text": [
      "{\"Little Women\"=>\"Louisa May Alcott\", \"Robinson Crusoe\"=>\"Daniel Defoe\"}\n"
     ]
    }
   ],
   "source": [
    "puts authors"
   ]
  },
  {
   "cell_type": "code",
   "execution_count": 111,
   "metadata": {},
   "outputs": [
    {
     "data": {
      "text/plain": [
       "{\"Come Rain or Come Shine\"=>\"unknown\", \"Make Me\"=>\"unknown\", \"The Girl in the Spider's Web\"=>\"unknown\", \"Go Set a Watchman\"=>\"unknown\", \"All the Light We Cannot See\"=>\"unknown\"}"
      ]
     },
     "execution_count": 111,
     "metadata": {},
     "output_type": "execute_result"
    }
   ],
   "source": [
    "bestsellers = {\"Come Rain or Come Shine\" => \"unknown\", \n",
    "            \"Make Me\" => \"unknown\", \n",
    "            \"The Girl in the Spider's Web\" => \"unknown\", \n",
    "            \"Go Set a Watchman\" => \"unknown\", \n",
    "            \"All the Light We Cannot See\" => \"unknown\"}"
   ]
  },
  {
   "cell_type": "code",
   "execution_count": 117,
   "metadata": {},
   "outputs": [
    {
     "data": {
      "text/plain": [
       "\"Anthony Doerr\""
      ]
     },
     "execution_count": 117,
     "metadata": {},
     "output_type": "execute_result"
    }
   ],
   "source": [
    "bestsellers[:\"Come Rain or Come Shine\"]=\"Jan Karon\"\n",
    "bestsellers[:\"Make Me\"]=\"Lee Child\"\n",
    "bestsellers[:\"The Girl in the Spider's Web\"]=\"David Lagercrantz\"\n",
    "bestsellers[:\"Go Set a Watchman\"]=\"Harper Lee\"\n",
    "bestsellers[:\"All the Light We Cannot See\"]=\"Anthony Doerr\"\n"
   ]
  },
  {
   "cell_type": "code",
   "execution_count": 120,
   "metadata": {},
   "outputs": [
    {
     "data": {
      "text/plain": [
       "[[\"Come Rain or Come Shine\", \"Jan Karon\"], [\"Make Me\", \"Lee Child\"], [\"The Girl in the Spider's Web\", \"David Lagercrantz\"], [\"Go Set a Watchman\", \"Harper Lee\"], [\"All the Light We Cannot See\", \"Anthony Doerr\"], [:\"Come Rain or Come Shine\", nil], [:\"Make Me\", nil], [:\"The Girl in the Spider's Web\", nil], [:\"Go Set a Watchman\", nil], [:\"All the Light We Cannot See\", nil]]"
      ]
     },
     "execution_count": 120,
     "metadata": {},
     "output_type": "execute_result"
    }
   ],
   "source": [
    "best_authors = [\"Jan Karon\",\n",
    "\"Lee Child\",\n",
    "\"David Lagercrantz\",\n",
    "\"Harper Lee\",\n",
    "\"Anthony Doerr\"]\n",
    "\n",
    "bestsellers.keys.zip(best_authors) #associative array"
   ]
  },
  {
   "cell_type": "code",
   "execution_count": 58,
   "metadata": {},
   "outputs": [
    {
     "data": {
      "text/plain": [
       "true"
      ]
     },
     "execution_count": 58,
     "metadata": {},
     "output_type": "execute_result"
    }
   ],
   "source": [
    "authors = {\"Little Women\" => \"Louisa May Alcott\", \"Robinson Crusoe\" => \"Daniel Defoe\"}\n",
    "authors.has_value? \"Louisa May Alcott\""
   ]
  },
  {
   "cell_type": "code",
   "execution_count": 65,
   "metadata": {},
   "outputs": [
    {
     "data": {
      "text/plain": [
       "{:floor=>\"tile\", :cabinets=>\"oak\", :countertop=>\"corian\", :faucet=>\"stainless steel\", :refrigerator=>\"LG\"}"
      ]
     },
     "execution_count": 65,
     "metadata": {},
     "output_type": "execute_result"
    }
   ],
   "source": [
    "remodel = {floor: \"tile\", cabinets: \"oak\", countertop: \"corian\", faucet: \"stainless steel\", refrigerator: \"LG\"}"
   ]
  },
  {
   "cell_type": "code",
   "execution_count": 66,
   "metadata": {},
   "outputs": [
    {
     "data": {
      "text/plain": [
       "false"
      ]
     },
     "execution_count": 66,
     "metadata": {},
     "output_type": "execute_result"
    }
   ],
   "source": [
    "remodel.include? 'oak'"
   ]
  },
  {
   "cell_type": "code",
   "execution_count": 67,
   "metadata": {},
   "outputs": [
    {
     "data": {
      "text/plain": [
       "true"
      ]
     },
     "execution_count": 67,
     "metadata": {},
     "output_type": "execute_result"
    }
   ],
   "source": [
    "remodel.include? :cabinets"
   ]
  },
  {
   "cell_type": "code",
   "execution_count": 121,
   "metadata": {},
   "outputs": [],
   "source": [
    "#include only looks at keys, not values(?)"
   ]
  },
  {
   "cell_type": "code",
   "execution_count": null,
   "metadata": {},
   "outputs": [],
   "source": []
  },
  {
   "cell_type": "code",
   "execution_count": null,
   "metadata": {},
   "outputs": [],
   "source": []
  }
 ],
 "metadata": {
  "kernelspec": {
   "display_name": "Ruby 2.5.0",
   "language": "ruby",
   "name": "ruby"
  },
  "language_info": {
   "file_extension": ".rb",
   "mimetype": "application/x-ruby",
   "name": "ruby",
   "version": "2.5.0"
  }
 },
 "nbformat": 4,
 "nbformat_minor": 2
}
