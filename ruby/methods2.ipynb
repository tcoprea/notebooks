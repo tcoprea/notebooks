{
 "cells": [
  {
   "cell_type": "markdown",
   "metadata": {},
   "source": [
    "# challenge!\n",
    "## define a method that takes any number of argumentsand returns their sum"
   ]
  },
  {
   "cell_type": "code",
   "execution_count": 4,
   "metadata": {},
   "outputs": [
    {
     "data": {
      "text/plain": [
       ":sum"
      ]
     },
     "execution_count": 4,
     "metadata": {},
     "output_type": "execute_result"
    }
   ],
   "source": [
    "#in js, this uses ...;in ruby it uses * (splat)\n",
    "def sum (a, b, *excess)\n",
    "    [\n",
    "        a,\n",
    "        b,\n",
    "        excess,\n",
    "        ]\n",
    "end"
   ]
  },
  {
   "cell_type": "code",
   "execution_count": 5,
   "metadata": {},
   "outputs": [
    {
     "data": {
      "text/plain": [
       "[1, 4, [10, \"dfhdsd\", 1, 2, 3, 4, 5, 6, 7, 8, 9, 10]]"
      ]
     },
     "execution_count": 5,
     "metadata": {},
     "output_type": "execute_result"
    }
   ],
   "source": [
    "sum(1,4,10, 'dfhdsd', *(1..10).to_a)"
   ]
  },
  {
   "cell_type": "code",
   "execution_count": 7,
   "metadata": {},
   "outputs": [
    {
     "data": {
      "text/plain": [
       "818"
      ]
     },
     "execution_count": 7,
     "metadata": {},
     "output_type": "execute_result"
    }
   ],
   "source": [
    "(0..1000).to_a.sample "
   ]
  },
  {
   "cell_type": "code",
   "execution_count": 8,
   "metadata": {},
   "outputs": [
    {
     "data": {
      "text/plain": [
       ":random_number"
      ]
     },
     "execution_count": 8,
     "metadata": {},
     "output_type": "execute_result"
    }
   ],
   "source": [
    "def random_number\n",
    "    (0..1000).to_a.sample\n",
    "end"
   ]
  },
  {
   "cell_type": "code",
   "execution_count": 42,
   "metadata": {},
   "outputs": [
    {
     "data": {
      "text/plain": [
       "[614, 843, 845, 957, 492, 345, 214, 992, 369, 762, 116, 167, 215, 657, 376, 569, 72, 260, 364, 544, 512, 269, 274, 103, 572, 671, 519, 910, 181, 386, 833, 850, 41, 886, 757, 671, 702, 882, 500, 268, 637, 626, 20, 587, 672, 159, 273, 805, 377, 918, 858, 887, 230, 77, 86, 671, 523, 159, 294, 657, 175, 675, 910, 815, 921, 126, 333, 202, 193, 971, 245, 778, 713, 778, 965, 182, 109, 95, 78, 260, 431, 10, 590, 519, 806, 128, 528, 247, 608, 116, 994, 453, 272, 550, 213, 251, 12, 558, 378, 586, 977, 810, 955, 774, 612, 496, 877, 963, 972, 504, 153, 416, 868, 17, 455, 424, 621, 265, 838, 904, 629, 338, 166, 65, 912, 816, 141, 36, 984, 400, 723, 639, 234, 698, 571, 795, 206, 764, 946, 624, 450, 664, 247, 184, 543, 476, 815, 487, 796, 419, 823, 105, 161, 814, 351, 700, 587, 748, 53, 685, 746, 282, 993, 2, 883, 870, 597, 19, 291, 431, 987, 686, 425, 146, 597, 778, 327, 696, 786, 322, 109, 795, 635, 404, 846, 627, 759, 420, 608, 447, 259, 923, 678, 14, 950, 358, 552, 979, 944, 898, 670, 292, 694, 904, 408, 560, 816, 488, 512, 897, 101, 242, 855, 148, 499, 860, 681, 781, 641, 39, 721, 723, 380, 796, 436, 552, 465, 580, 551, 252, 296, 500, 3, 13, 162, 791, 61, 648, 258, 143, 132, 171, 595, 618, 250, 935, 164, 676, 420, 751, 542]"
      ]
     },
     "execution_count": 42,
     "metadata": {},
     "output_type": "execute_result"
    }
   ],
   "source": [
    "random_number.times.map do \n",
    "    random_number\n",
    "end"
   ]
  },
  {
   "cell_type": "code",
   "execution_count": 40,
   "metadata": {},
   "outputs": [
    {
     "data": {
      "text/plain": [
       ":sum"
      ]
     },
     "execution_count": 40,
     "metadata": {},
     "output_type": "execute_result"
    }
   ],
   "source": [
    "def sum (*numbers)\n",
    "    count = 0\n",
    "    numbers.each do |number|\n",
    "        count += number\n",
    "    end\n",
    "    return count\n",
    "end"
   ]
  },
  {
   "cell_type": "code",
   "execution_count": 30,
   "metadata": {},
   "outputs": [
    {
     "data": {
      "text/plain": [
       "18"
      ]
     },
     "execution_count": 30,
     "metadata": {},
     "output_type": "execute_result"
    }
   ],
   "source": [
    "sum(3,4,5,6)"
   ]
  },
  {
   "cell_type": "code",
   "execution_count": 31,
   "metadata": {},
   "outputs": [
    {
     "data": {
      "text/plain": [
       ":sum2"
      ]
     },
     "execution_count": 31,
     "metadata": {},
     "output_type": "execute_result"
    }
   ],
   "source": [
    "def sum2 (*numbers)\n",
    "    numbers.sum\n",
    "end"
   ]
  },
  {
   "cell_type": "code",
   "execution_count": 32,
   "metadata": {},
   "outputs": [
    {
     "data": {
      "text/plain": [
       "39"
      ]
     },
     "execution_count": 32,
     "metadata": {},
     "output_type": "execute_result"
    }
   ],
   "source": [
    "sum2(4,5,6,7,8,9)"
   ]
  },
  {
   "cell_type": "code",
   "execution_count": 50,
   "metadata": {},
   "outputs": [
    {
     "data": {
      "text/plain": [
       ":lots_of_numbers"
      ]
     },
     "execution_count": 50,
     "metadata": {},
     "output_type": "execute_result"
    }
   ],
   "source": [
    "def lots_of_numbers\n",
    "    random_number.times do\n",
    "        random_number\n",
    "    end\n",
    "end"
   ]
  },
  {
   "cell_type": "code",
   "execution_count": 52,
   "metadata": {},
   "outputs": [
    {
     "data": {
      "text/plain": [
       "749"
      ]
     },
     "execution_count": 52,
     "metadata": {},
     "output_type": "execute_result"
    }
   ],
   "source": [
    "lots_of_numbers"
   ]
  },
  {
   "cell_type": "code",
   "execution_count": null,
   "metadata": {},
   "outputs": [],
   "source": []
  },
  {
   "cell_type": "code",
   "execution_count": null,
   "metadata": {},
   "outputs": [],
   "source": []
  }
 ],
 "metadata": {
  "kernelspec": {
   "display_name": "Ruby 2.5.0",
   "language": "ruby",
   "name": "ruby"
  },
  "language_info": {
   "file_extension": ".rb",
   "mimetype": "application/x-ruby",
   "name": "ruby",
   "version": "2.5.0"
  }
 },
 "nbformat": 4,
 "nbformat_minor": 2
}
