{
 "cells": [
  {
   "cell_type": "code",
   "execution_count": 1,
   "metadata": {},
   "outputs": [
    {
     "name": "stdout",
     "output_type": "stream",
     "text": [
      "[]\n",
      "[\"Adrienne Bailon\", \"Sabrina Bryan\", \"Kiely Williams\"]\n"
     ]
    },
    {
     "data": {
      "text/plain": [
       "[\"Adrienne Bailon\", \"Sabrina Bryan\", \"Kiely Williams\"]"
      ]
     },
     "execution_count": 1,
     "metadata": {},
     "output_type": "execute_result"
    }
   ],
   "source": [
    "# Write some code that will iterate over the auditions and add them to the panel if and only if they are in the CHEETAH_GIRLS constant.\n",
    "\n",
    "CHEETAH_GIRLS = [\n",
    "  \"Raven-Symone\",\n",
    "  \"Adrienne Bailon\",\n",
    "  \"Sabrina Bryan\",\n",
    "  \"Kiely Williams\"\n",
    "]\n",
    "\n",
    "auditions = [\n",
    "  \"Usher\",\n",
    "  \"Wiz Khalifa\",\n",
    "  \"Adrienne Bailon\",\n",
    "  \"Hulk Hogan\",\n",
    "  \"Sabrina Bryan\",\n",
    "  \"Diego Lugo\",\n",
    "  \"Kiely Williams\",\n",
    "  \"Justin Timberlake\"\n",
    "]\n",
    "\n",
    "panel = []\n",
    "\n",
    "#YOUR CODE HERE\n",
    "\n",
    "puts panel\n",
    "\n",
    "# outline:\n",
    "# iterate over auditions Array\n",
    "# check each name, and \n",
    "# if: the name appears in CHEETAH_GIRLS,\n",
    "# shovel it in the empty panel array\n",
    "# display the panel\n",
    "\n",
    "auditions.each do |name|\n",
    "  if CHEETAH_GIRLS.include? (name)\n",
    "    panel<<name \n",
    "  end\n",
    " end\n",
    "   \n",
    "p panel"
   ]
  },
  {
   "cell_type": "code",
   "execution_count": 2,
   "metadata": {},
   "outputs": [
    {
     "name": "stdout",
     "output_type": "stream",
     "text": [
      "Hi, I'm John.  I'm The Smart One!\n",
      "Hi, I'm Ringo.  I'm The Funny One!\n",
      "Hi, I'm Paul.  I'm The Cute One!\n",
      "Hi, I'm George.  I'm The Quiet One!\n"
     ]
    }
   ],
   "source": [
    "# The first line is one way to represent the Beatles. This data structure is an Array of Hashes.\n",
    "\n",
    "# Next, we see a loop iterating each of the elements in the beatles array. We want it to loop through all of them and match their names to their nicknames, using a case statement. Add your code inside to accomplish this. If you don’t know their nicknames, Google it.\n",
    "\n",
    "# Finally, the last bit of code loops through the array once again and prints the result on screen. Submit the entire contents of the file when you’re finished.\n",
    "\n",
    "# Note: You only need their first name!\n",
    "\n",
    "beatles = [\n",
    "  {\n",
    "    name: nil,\n",
    "    nickname: \"The Smart One\"\n",
    "  },\n",
    "  {\n",
    "    name: nil,\n",
    "    nickname: \"The Funny One\"\n",
    "  },\n",
    "  {\n",
    "    name: nil,\n",
    "    nickname: \"The Cute One\"\n",
    "    },\n",
    "  {\n",
    "    name: nil,\n",
    "    nickname: \"The Quiet One\"\n",
    "  }\n",
    "]\n",
    "\n",
    "i = 0\n",
    "while i < beatles.length\n",
    "  case beatles[i][:nickname] \n",
    "  when \"The Smart One\"\n",
    "    beatles[i][:name] = \"John\"\n",
    "  when \"The Funny One\"\n",
    "    beatles[i][:name] = \"Ringo\"\n",
    "  when \"The Cute One\"\n",
    "    beatles[i][:name] = \"Paul\"\n",
    "  when \"The Quiet One\"\n",
    "    beatles[i][:name] = \"George\"\n",
    "  end\n",
    "  i += 1\n",
    "end\n",
    "\n",
    "i = 0\n",
    "while i < beatles.length\n",
    "  puts \"Hi, I'm #{beatles[i][:name]}.  I'm #{beatles[i][:nickname]}!\"\n",
    "  i += 1\n",
    "end"
   ]
  },
  {
   "cell_type": "code",
   "execution_count": 3,
   "metadata": {},
   "outputs": [
    {
     "name": "stdout",
     "output_type": "stream",
     "text": [
      "1\n",
      "2\n",
      "Fizz\n",
      "4\n",
      "Buzz\n",
      "Fizz\n",
      "7\n",
      "8\n",
      "Fizz\n",
      "Buzz\n",
      "11\n",
      "Fizz\n",
      "13\n",
      "14\n",
      "FizzBuzz\n",
      "16\n",
      "17\n",
      "Fizz\n",
      "19\n",
      "Buzz\n",
      "Fizz\n",
      "22\n",
      "23\n",
      "Fizz\n",
      "Buzz\n",
      "26\n",
      "Fizz\n",
      "28\n",
      "29\n",
      "FizzBuzz\n",
      "31\n",
      "32\n",
      "Fizz\n",
      "34\n",
      "Buzz\n",
      "Fizz\n",
      "37\n",
      "38\n",
      "Fizz\n",
      "Buzz\n",
      "41\n",
      "Fizz\n",
      "43\n",
      "44\n",
      "FizzBuzz\n",
      "46\n",
      "47\n",
      "Fizz\n",
      "49\n",
      "Buzz\n",
      "Fizz\n",
      "52\n",
      "53\n",
      "Fizz\n",
      "Buzz\n",
      "56\n",
      "Fizz\n",
      "58\n",
      "59\n",
      "FizzBuzz\n",
      "61\n",
      "62\n",
      "Fizz\n",
      "64\n",
      "Buzz\n",
      "Fizz\n",
      "67\n",
      "68\n",
      "Fizz\n",
      "Buzz\n",
      "71\n",
      "Fizz\n",
      "73\n",
      "74\n",
      "FizzBuzz\n",
      "76\n",
      "77\n",
      "Fizz\n",
      "79\n",
      "Buzz\n",
      "Fizz\n",
      "82\n",
      "83\n",
      "Fizz\n",
      "Buzz\n",
      "86\n",
      "Fizz\n",
      "88\n",
      "89\n",
      "FizzBuzz\n",
      "91\n",
      "92\n",
      "Fizz\n",
      "94\n",
      "Buzz\n",
      "Fizz\n",
      "97\n",
      "98\n",
      "Fizz\n",
      "Buzz\n"
     ]
    }
   ],
   "source": [
    "i = 1\n",
    "while i < 101\n",
    "  if i%3==0 && i%5==0 \n",
    "    puts \"FizzBuzz\"\n",
    "  elsif i%3==0 \n",
    "    puts \"Fizz\"\n",
    "  elsif i%5==0 \n",
    "    puts \"Buzz\"\n",
    "  else \n",
    "    puts i\n",
    "  end\n",
    "  i += 1\n",
    "end"
   ]
  },
  {
   "cell_type": "code",
   "execution_count": 4,
   "metadata": {},
   "outputs": [
    {
     "name": "stdout",
     "output_type": "stream",
     "text": [
      "[\"Romeo\", \"Oedipus\", \"Hansel\", \"Gretel\"]\n"
     ]
    },
    {
     "data": {
      "text/plain": [
       "[\"Romeo\", \"Oedipus\", \"Hansel\", \"Gretel\"]"
      ]
     },
     "execution_count": 4,
     "metadata": {},
     "output_type": "execute_result"
    }
   ],
   "source": [
    "names = ['romeo', 'oedipus', 'hansel', 'gretel']\n",
    "\n",
    "def capitalize_each (names)\n",
    "names.map {|name| name.capitalize!}\n",
    "p names\n",
    "end\n",
    "\n",
    "capitalize_each (names)"
   ]
  },
  {
   "cell_type": "code",
   "execution_count": null,
   "metadata": {},
   "outputs": [],
   "source": [
    "pets = [\"Scooby\", \"Soco\", \"Summer\", \"Pixie\", \"Wilson\", \"Mason\",\"Baron\", \"Brinkley\", \"Bella\"]\n",
    "\n",
    "# Write a method that takes in the pets array as a parameter. Inside that method, iterate over the array using the each method. If the name starts with an “S”, output the message “My name starts with an S for super!” If the name does not begin with an “S” output the message: “I’m still pretty special too!”.\n",
    "\n",
    "pets.each {|pet|\n",
    "  if pet.include? \"S\"\n",
    "    puts \"My name starts with an S for Super!\"\n",
    "  else\n",
    "    puts \"I'm still pretty special too!\"\n",
    "  end\n",
    "    puts pet\n",
    "}"
   ]
  },
  {
   "cell_type": "code",
   "execution_count": 14,
   "metadata": {},
   "outputs": [],
   "source": [
    "# A DSL (domain-specific language) is a technique for writing Ruby code in such a way that it’s readable as a new language optimized for a particular problem or use case.\n",
    "\n",
    "# You start with the way you’d like the code to read, then go back and make that code do what you want it to do.\n",
    "\n",
    "# Create a ruby file, quick_fox.rb and paste the following line of code into it:\n",
    "class Animal\n",
    "  def jumped_over (*obstacles)\n",
    "  end\n",
    "end\n",
    "quick_fox = Animal.new\n",
    "lazy_dog, daisy_log = true\n",
    "\n",
    "quick_fox.jumped_over(lazy_dog, daisy_log)\n",
    "# Write just enough code before that line to make it not return any errors."
   ]
  },
  {
   "cell_type": "code",
   "execution_count": null,
   "metadata": {},
   "outputs": [],
   "source": []
  }
 ],
 "metadata": {
  "kernelspec": {
   "display_name": "Ruby 2.5.0",
   "language": "ruby",
   "name": "ruby"
  },
  "language_info": {
   "file_extension": ".rb",
   "mimetype": "application/x-ruby",
   "name": "ruby",
   "version": "2.5.0"
  }
 },
 "nbformat": 4,
 "nbformat_minor": 2
}
