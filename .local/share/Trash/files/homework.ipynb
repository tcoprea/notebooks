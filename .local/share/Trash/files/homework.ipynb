{
 "cells": [
  {
   "cell_type": "code",
   "execution_count": 1,
   "metadata": {},
   "outputs": [
    {
     "name": "stdout",
     "output_type": "stream",
     "text": [
      "168.75\n"
     ]
    }
   ],
   "source": [
    "let billTotal = 675;\n",
    "let partySize = 4;\n",
    "let tipPercentage = 20;\n",
    "\n",
    "//Write some code that calculates the tip amount that each person should leave.\n",
    "//Make sure you output the result in a nicely formatted string. \n",
    "//It should look something like this:\n",
    "//The total tip per person is: $33.75\n",
    "\n",
    "var billEach = billTotal/partySize;\n",
    "\n",
    "console.log(billEach);"
   ]
  },
  {
   "cell_type": "code",
   "execution_count": 6,
   "metadata": {},
   "outputs": [
    {
     "ename": "TypeError",
     "evalue": "Identifier 'tipAmount' has already been declared",
     "execution_count": 6,
     "output_type": "error",
     "traceback": [
      "evalmachine.<anonymous>:1",
      "let tipAmount = billEach * tipPercentage/100;",
      "^",
      "",
      "TypeError: Identifier 'tipAmount' has already been declared",
      "    at evalmachine.<anonymous>:1:1",
      "    at ContextifyScript.Script.runInThisContext (vm.js:25:33)",
      "    at Object.runInThisContext (vm.js:97:38)",
      "    at run ([eval]:1002:15)",
      "    at onRunRequest ([eval]:829:18)",
      "    at onMessage ([eval]:789:13)",
      "    at emitTwo (events.js:106:13)",
      "    at process.emit (events.js:191:7)",
      "    at process.nextTick (internal/child_process.js:787:12)",
      "    at _combinedTickCallback (internal/process/next_tick.js:73:7)"
     ]
    }
   ],
   "source": [
    "let tipAmount = billEach * tipPercentage/100;\n",
    "console.log (\"The total tip per person is: \" + tipAmount);"
   ]
  },
  {
   "cell_type": "code",
   "execution_count": null,
   "metadata": {},
   "outputs": [],
   "source": [
    "    "
   ]
  }
 ],
 "metadata": {
  "kernelspec": {
   "display_name": "Javascript (Node.js)",
   "language": "javascript",
   "name": "javascript"
  },
  "language_info": {
   "file_extension": ".js",
   "mimetype": "application/javascript",
   "name": "javascript",
   "version": "6.13.1"
  }
 },
 "nbformat": 4,
 "nbformat_minor": 2
}
