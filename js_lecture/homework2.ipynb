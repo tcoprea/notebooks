{
 "cells": [
  {
   "cell_type": "code",
   "execution_count": 1,
   "metadata": {},
   "outputs": [
    {
     "name": "stdout",
     "output_type": "stream",
     "text": [
      "The total tip per person is: 135.00\n"
     ]
    }
   ],
   "source": [
    "let billTotal = 675;\n",
    "let partySize = 1;\n",
    "let tipPercentage = 20;\n",
    "let billEach = billTotal/partySize;\n",
    "let tipAmount = billEach * tipPercentage/100;\n",
    "\n",
    "let prices = new Intl.NumberFormat('en-US',\n",
    "                        { style: 'currency', currency: 'USD',\n",
    "                          minimumFractionDigits: 2 });\n",
    "                          \n",
    "console.log(`The total tip per person is: ${prices.format(tipAmount)}`);"
   ]
  },
  {
   "cell_type": "code",
   "execution_count": 2,
   "metadata": {},
   "outputs": [
    {
     "name": "stdout",
     "output_type": "stream",
     "text": [
      "The total tip per person is: $135.00\n"
     ]
    }
   ],
   "source": [
    "console.log(\"The total tip per person is: $\" + tipAmount.toFixed(2));"
   ]
  },
  {
   "cell_type": "code",
   "execution_count": null,
   "metadata": {},
   "outputs": [],
   "source": [
    "// Let’s write some code that calculates daily compound interest on a savings account (and yes, our Bank is very generous with the interest 🤑).\n",
    "// Given:\n",
    "\n",
    "let accountBalance = 25000;\n",
    "let accountAgeInDays = 7;\n",
    "let dailyInterestPercentage = 0.15;\n",
    "\n",
    "// We will use a compound operator to increment the balance at the end of every day.\n",
    "// Finally, output a message showing the new values to the console. It should look like this:\n",
    "\n",
    "// \"The new Account Balance is: $25037.5\"\n",
    "// \"The account is 8 days old.\""
   ]
  },
  {
   "cell_type": "code",
   "execution_count": null,
   "metadata": {},
   "outputs": [],
   "source": [
    "// The equation is A = p * [[1 + (r/n)] ^ nt]\n",
    "// A = newAcctBal\n",
    "// p = principal ($25,000)\n",
    "// r = interest rate (0.15)\n",
    "// n = number of times acct compounded per year\n",
    "// t = time in years\n",
    "\n",
    "var p = 25000;\n",
    "var r = 0.15;\n",
    "var n = 365;\n",
    "var t = 7/365;\n",
    "var acctAge = t*365;\n",
    "var newAcctBal = (p* Math.pow((1 + (r/365), (n*t)));\n",
    "\n",
    "\n",
    "console.log (\"The new account balance is: $\" + newAcctBal.toFixed(2));\n",
    "console.log (\"The account is \" + acctAge + \" days old.\");\n"
   ]
  },
  {
   "cell_type": "code",
   "execution_count": null,
   "metadata": {},
   "outputs": [],
   "source": []
  }
 ],
 "metadata": {
  "kernelspec": {
   "display_name": "Javascript (Node.js)",
   "language": "javascript",
   "name": "javascript"
  },
  "language_info": {
   "file_extension": ".js",
   "mimetype": "application/javascript",
   "name": "javascript",
   "version": "6.13.1"
  }
 },
 "nbformat": 4,
 "nbformat_minor": 2
}
