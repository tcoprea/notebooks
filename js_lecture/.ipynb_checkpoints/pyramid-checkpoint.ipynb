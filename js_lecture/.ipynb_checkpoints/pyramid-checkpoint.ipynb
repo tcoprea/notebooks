{
 "cells": [
  {
   "cell_type": "code",
   "execution_count": 2,
   "metadata": {},
   "outputs": [
    {
     "name": "stdout",
     "output_type": "stream",
     "text": [
      "*\n",
      "**\n",
      "***\n",
      "****\n",
      "*****\n",
      "******\n",
      "*******\n",
      "********\n",
      "*********\n",
      "**********\n",
      "***********\n",
      "************\n",
      "*************\n"
     ]
    }
   ],
   "source": [
    "function pyramid(layers){\n",
    "  \n",
    "  var starzzzzzzz = \"\";\n",
    "  \n",
    "  for(h=1; h <= layers; h++)\n",
    "  {\n",
    "         starzzzzzzz = starzzzzzzz + \"*\";\n",
    "  \n",
    "  console.log(starzzzzzzz);\n",
    "  }\n",
    "  \n",
    "}\n",
    "\n",
    "pyramid(13);"
   ]
  },
  {
   "cell_type": "code",
   "execution_count": null,
   "metadata": {},
   "outputs": [],
   "source": []
  }
 ],
 "metadata": {
  "kernelspec": {
   "display_name": "Javascript (Node.js)",
   "language": "javascript",
   "name": "javascript"
  },
  "language_info": {
   "file_extension": ".js",
   "mimetype": "application/javascript",
   "name": "javascript",
   "version": "6.13.1"
  }
 },
 "nbformat": 4,
 "nbformat_minor": 2
}
