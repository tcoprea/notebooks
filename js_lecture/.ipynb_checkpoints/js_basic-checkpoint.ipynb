{
 "cells": [
  {
   "cell_type": "code",
   "execution_count": 4,
   "metadata": {},
   "outputs": [
    {
     "data": {
      "text/plain": [
       "{ constants: \n",
       "   { O_RDONLY: 0,\n",
       "     O_WRONLY: 1,\n",
       "     O_RDWR: 2,\n",
       "     S_IFMT: 61440,\n",
       "     S_IFREG: 32768,\n",
       "     S_IFDIR: 16384,\n",
       "     S_IFCHR: 8192,\n",
       "     S_IFBLK: 24576,\n",
       "     S_IFIFO: 4096,\n",
       "     S_IFLNK: 40960,\n",
       "     S_IFSOCK: 49152,\n",
       "     O_CREAT: 64,\n",
       "     O_EXCL: 128,\n",
       "     O_NOCTTY: 256,\n",
       "     O_TRUNC: 512,\n",
       "     O_APPEND: 1024,\n",
       "     O_DIRECTORY: 65536,\n",
       "     O_NOATIME: 262144,\n",
       "     O_NOFOLLOW: 131072,\n",
       "     O_SYNC: 1052672,\n",
       "     O_DIRECT: 16384,\n",
       "     O_NONBLOCK: 2048,\n",
       "     S_IRWXU: 448,\n",
       "     S_IRUSR: 256,\n",
       "     S_IWUSR: 128,\n",
       "     S_IXUSR: 64,\n",
       "     S_IRWXG: 56,\n",
       "     S_IRGRP: 32,\n",
       "     S_IWGRP: 16,\n",
       "     S_IXGRP: 8,\n",
       "     S_IRWXO: 7,\n",
       "     S_IROTH: 4,\n",
       "     S_IWOTH: 2,\n",
       "     S_IXOTH: 1,\n",
       "     F_OK: 0,\n",
       "     R_OK: 4,\n",
       "     W_OK: 2,\n",
       "     X_OK: 1 },\n",
       "  Stats: [Function: Stats],\n",
       "  F_OK: 0,\n",
       "  R_OK: 4,\n",
       "  W_OK: 2,\n",
       "  X_OK: 1,\n",
       "  access: [Function],\n",
       "  accessSync: [Function],\n",
       "  exists: [Function],\n",
       "  existsSync: [Function],\n",
       "  readFile: [Function],\n",
       "  readFileSync: [Function],\n",
       "  close: [Function],\n",
       "  closeSync: [Function],\n",
       "  open: [Function],\n",
       "  openSync: [Function],\n",
       "  read: [Function],\n",
       "  readSync: [Function],\n",
       "  write: [Function],\n",
       "  writeSync: [Function],\n",
       "  rename: [Function],\n",
       "  renameSync: [Function],\n",
       "  truncate: [Function],\n",
       "  truncateSync: [Function],\n",
       "  ftruncate: [Function],\n",
       "  ftruncateSync: [Function],\n",
       "  rmdir: [Function],\n",
       "  rmdirSync: [Function],\n",
       "  fdatasync: [Function],\n",
       "  fdatasyncSync: [Function],\n",
       "  fsync: [Function],\n",
       "  fsyncSync: [Function],\n",
       "  mkdir: [Function],\n",
       "  mkdirSync: [Function],\n",
       "  readdir: [Function],\n",
       "  readdirSync: [Function],\n",
       "  fstat: [Function],\n",
       "  lstat: [Function],\n",
       "  stat: [Function],\n",
       "  fstatSync: [Function],\n",
       "  lstatSync: [Function],\n",
       "  statSync: [Function],\n",
       "  readlink: [Function],\n",
       "  readlinkSync: [Function],\n",
       "  symlink: [Function],\n",
       "  symlinkSync: [Function],\n",
       "  link: [Function],\n",
       "  linkSync: [Function],\n",
       "  unlink: [Function],\n",
       "  unlinkSync: [Function],\n",
       "  fchmod: [Function],\n",
       "  fchmodSync: [Function],\n",
       "  chmod: [Function],\n",
       "  chmodSync: [Function],\n",
       "  fchown: [Function],\n",
       "  fchownSync: [Function],\n",
       "  chown: [Function],\n",
       "  chownSync: [Function],\n",
       "  _toUnixTimestamp: [Function: toUnixTimestamp],\n",
       "  utimes: [Function],\n",
       "  utimesSync: [Function],\n",
       "  futimes: [Function],\n",
       "  futimesSync: [Function],\n",
       "  writeFile: [Function],\n",
       "  writeFileSync: [Function],\n",
       "  appendFile: [Function],\n",
       "  appendFileSync: [Function],\n",
       "  watch: [Function],\n",
       "  watchFile: [Function],\n",
       "  unwatchFile: [Function],\n",
       "  realpathSync: [Function: realpathSync],\n",
       "  realpath: [Function: realpath],\n",
       "  mkdtemp: [Function],\n",
       "  mkdtempSync: [Function],\n",
       "  createReadStream: [Function],\n",
       "  ReadStream: \n",
       "   { [Function: ReadStream]\n",
       "     super_: \n",
       "      { [Function: Readable]\n",
       "        ReadableState: [Function: ReadableState],\n",
       "        super_: [Object],\n",
       "        _fromList: [Function: fromList] } },\n",
       "  FileReadStream: \n",
       "   { [Function: ReadStream]\n",
       "     super_: \n",
       "      { [Function: Readable]\n",
       "        ReadableState: [Function: ReadableState],\n",
       "        super_: [Object],\n",
       "        _fromList: [Function: fromList] } },\n",
       "  createWriteStream: [Function],\n",
       "  WriteStream: \n",
       "   { [Function: WriteStream]\n",
       "     super_: { [Function: Writable] WritableState: [Function: WritableState], super_: [Object] } },\n",
       "  FileWriteStream: \n",
       "   { [Function: WriteStream]\n",
       "     super_: { [Function: Writable] WritableState: [Function: WritableState], super_: [Object] } } }"
      ]
     },
     "execution_count": 4,
     "metadata": {},
     "output_type": "execute_result"
    }
   ],
   "source": [
    "//browsers are sandboxed; only allowed to operate with their own files--cannot acces files on your computer\n",
    "//node.js nothing more than a runtime env that speaks jScript\n",
    "\n",
    "var fs = require('fs');\n",
    "fs"
   ]
  },
  {
   "cell_type": "code",
   "execution_count": 6,
   "metadata": {},
   "outputs": [
    {
     "ename": "ReferenceError",
     "evalue": "document is not defined",
     "execution_count": 6,
     "output_type": "error",
     "traceback": [
      "evalmachine.<anonymous>:2",
      "console.log(document);",
      "            ^",
      "",
      "ReferenceError: document is not defined",
      "    at evalmachine.<anonymous>:2:13",
      "    at ContextifyScript.Script.runInThisContext (vm.js:25:33)",
      "    at Object.runInThisContext (vm.js:97:38)",
      "    at run ([eval]:1002:15)",
      "    at onRunRequest ([eval]:829:18)",
      "    at onMessage ([eval]:789:13)",
      "    at emitTwo (events.js:106:13)",
      "    at process.emit (events.js:191:7)",
      "    at process.nextTick (internal/child_process.js:787:12)",
      "    at _combinedTickCallback (internal/process/next_tick.js:73:7)"
     ]
    }
   ],
   "source": [
    "// catch statement = anticipate that an exception will be thrown and handle it gracefully\n",
    "console.log(document);"
   ]
  },
  {
   "cell_type": "code",
   "execution_count": 7,
   "metadata": {},
   "outputs": [
    {
     "name": "stdout",
     "output_type": "stream",
     "text": [
      "ReferenceError: document is not defined\n",
      "    at evalmachine.<anonymous>:2:13\n",
      "    at ContextifyScript.Script.runInThisContext (vm.js:25:33)\n",
      "    at Object.runInThisContext (vm.js:97:38)\n",
      "    at run ([eval]:1002:15)\n",
      "    at onRunRequest ([eval]:829:18)\n",
      "    at onMessage ([eval]:789:13)\n",
      "    at emitTwo (events.js:106:13)\n",
      "    at process.emit (events.js:191:7)\n",
      "    at process.nextTick (internal/child_process.js:787:12)\n",
      "    at _combinedTickCallback (internal/process/next_tick.js:73:7)\n"
     ]
    }
   ],
   "source": [
    "try {\n",
    "console.log(document)    \n",
    "} catch(e) {\n",
    "console.log(e)    \n",
    "}"
   ]
  },
  {
   "cell_type": "code",
   "execution_count": 8,
   "metadata": {},
   "outputs": [],
   "source": [
    "//logs error\n",
    "try {\n",
    "console.log(document)    \n",
    "} catch(e) {\n",
    "//console.log(e)    \n",
    "}"
   ]
  },
  {
   "cell_type": "code",
   "execution_count": 9,
   "metadata": {},
   "outputs": [
    {
     "name": "stdout",
     "output_type": "stream",
     "text": [
      "this is a node.js environment. What is a document?\n"
     ]
    }
   ],
   "source": [
    "//doesn't return anything\n",
    "try {\n",
    "console.log(document)    \n",
    "} catch(e) {\n",
    "console.log(\"this is a node.js environment. What is a document?\")    \n",
    "}"
   ]
  },
  {
   "cell_type": "code",
   "execution_count": 10,
   "metadata": {},
   "outputs": [
    {
     "ename": "ReferenceError",
     "evalue": "d is not defined",
     "execution_count": 10,
     "output_type": "error",
     "traceback": [
      "evalmachine.<anonymous>:2",
      "d(a);",
      "^",
      "",
      "ReferenceError: d is not defined",
      "    at evalmachine.<anonymous>:2:1",
      "    at ContextifyScript.Script.runInThisContext (vm.js:25:33)",
      "    at Object.runInThisContext (vm.js:97:38)",
      "    at run ([eval]:1002:15)",
      "    at onRunRequest ([eval]:829:18)",
      "    at onMessage ([eval]:789:13)",
      "    at emitTwo (events.js:106:13)",
      "    at process.emit (events.js:191:7)",
      "    at process.nextTick (internal/child_process.js:787:12)",
      "    at _combinedTickCallback (internal/process/next_tick.js:73:7)"
     ]
    }
   ],
   "source": []
  },
  {
   "cell_type": "code",
   "execution_count": null,
   "metadata": {},
   "outputs": [],
   "source": []
  }
 ],
 "metadata": {
  "kernelspec": {
   "display_name": "Javascript (Node.js)",
   "language": "javascript",
   "name": "javascript"
  },
  "language_info": {
   "file_extension": ".js",
   "mimetype": "application/javascript",
   "name": "javascript",
   "version": "6.13.1"
  }
 },
 "nbformat": 4,
 "nbformat_minor": 2
}
