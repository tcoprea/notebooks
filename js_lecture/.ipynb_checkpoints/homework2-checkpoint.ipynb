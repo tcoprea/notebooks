{
 "cells": [
  {
   "cell_type": "code",
   "execution_count": 1,
   "metadata": {},
   "outputs": [
    {
     "name": "stdout",
     "output_type": "stream",
     "text": [
      "The total tip per person is: 135.00\n"
     ]
    }
   ],
   "source": [
    "let billTotal = 675;\n",
    "let partySize = 1;\n",
    "let tipPercentage = 20;\n",
    "let billEach = billTotal/partySize;\n",
    "let tipAmount = billEach * tipPercentage/100;\n",
    "\n",
    "let prices = new Intl.NumberFormat('en-US',\n",
    "                        { style: 'currency', currency: 'USD',\n",
    "                          minimumFractionDigits: 2 });\n",
    "                          \n",
    "console.log(`The total tip per person is: ${prices.format(tipAmount)}`);"
   ]
  },
  {
   "cell_type": "code",
   "execution_count": 2,
   "metadata": {},
   "outputs": [
    {
     "name": "stdout",
     "output_type": "stream",
     "text": [
      "The total tip per person is: $135.00\n"
     ]
    }
   ],
   "source": [
    "console.log(\"The total tip per person is: $\" + tipAmount.toFixed(2));"
   ]
  },
  {
   "cell_type": "code",
   "execution_count": 10,
   "metadata": {},
   "outputs": [
    {
     "name": "stdout",
     "output_type": "stream",
     "text": [
      "The new account balance is: $25000.10\n",
      "The account is 2 days old.\n",
      "The new account balance is: $25000.10\n",
      "The account is 3 days old.\n",
      "The new account balance is: $25000.10\n",
      "The account is 4 days old.\n",
      "The new account balance is: $25000.10\n",
      "The account is 5 days old.\n",
      "The new account balance is: $25000.10\n",
      "The account is 6 days old.\n",
      "The new account balance is: $25000.10\n",
      "The account is 7 days old.\n",
      "The new account balance is: $25000.10\n",
      "The account is 8 days old.\n",
      "The new account balance is: $25000.10\n",
      "The account is 9 days old.\n",
      "The new account balance is: $25000.10\n",
      "The account is 10 days old.\n",
      "The new account balance is: $25000.10\n",
      "The account is 11 days old.\n",
      "The new account balance is: $25000.10\n",
      "The account is 12 days old.\n",
      "The new account balance is: $25000.10\n",
      "The account is 13 days old.\n",
      "The new account balance is: $25000.10\n",
      "The account is 14 days old.\n",
      "The new account balance is: $25000.10\n",
      "The account is 15 days old.\n",
      "The new account balance is: $25000.10\n",
      "The account is 16 days old.\n",
      "The new account balance is: $25000.10\n",
      "The account is 17 days old.\n",
      "The new account balance is: $25000.10\n",
      "The account is 18 days old.\n",
      "The new account balance is: $25000.10\n",
      "The account is 19 days old.\n",
      "The new account balance is: $25000.10\n",
      "The account is 20 days old.\n",
      "The new account balance is: $25000.10\n",
      "The account is 21 days old.\n",
      "The new account balance is: $25000.10\n",
      "The account is 22 days old.\n",
      "The new account balance is: $25000.10\n",
      "The account is 23 days old.\n",
      "The new account balance is: $25000.10\n",
      "The account is 24 days old.\n",
      "The new account balance is: $25000.10\n",
      "The account is 25 days old.\n",
      "The new account balance is: $25000.10\n",
      "The account is 26 days old.\n",
      "The new account balance is: $25000.10\n",
      "The account is 27 days old.\n",
      "The new account balance is: $25000.10\n",
      "The account is 28 days old.\n",
      "The new account balance is: $25000.10\n",
      "The account is 29 days old.\n",
      "The new account balance is: $25000.10\n",
      "The account is 30 days old.\n",
      "The new account balance is: $25000.10\n",
      "The account is 31 days old.\n",
      "The new account balance is: $25000.10\n",
      "The account is 32 days old.\n",
      "The new account balance is: $25000.10\n",
      "The account is 33 days old.\n",
      "The new account balance is: $25000.10\n",
      "The account is 34 days old.\n",
      "The new account balance is: $25000.10\n",
      "The account is 35 days old.\n",
      "The new account balance is: $25000.10\n",
      "The account is 36 days old.\n",
      "The new account balance is: $25000.10\n",
      "The account is 37 days old.\n",
      "The new account balance is: $25000.10\n",
      "The account is 38 days old.\n",
      "The new account balance is: $25000.10\n",
      "The account is 39 days old.\n",
      "The new account balance is: $25000.10\n",
      "The account is 40 days old.\n",
      "The new account balance is: $25000.10\n",
      "The account is 41 days old.\n",
      "The new account balance is: $25000.10\n",
      "The account is 42 days old.\n",
      "The new account balance is: $25000.10\n",
      "The account is 43 days old.\n",
      "The new account balance is: $25000.10\n",
      "The account is 44 days old.\n",
      "The new account balance is: $25000.10\n",
      "The account is 45 days old.\n",
      "The new account balance is: $25000.10\n",
      "The account is 46 days old.\n",
      "The new account balance is: $25000.10\n",
      "The account is 47 days old.\n",
      "The new account balance is: $25000.10\n",
      "The account is 48 days old.\n",
      "The new account balance is: $25000.10\n",
      "The account is 49 days old.\n"
     ]
    }
   ],
   "source": [
    "// The equation is A = p * [[1 + (r/n)] ^ nt]\n",
    "// A = newAcctBal\n",
    "// p = principal ($25,000)\n",
    "// r = interest rate (0.15)\n",
    "// n = number of times acct compounded per year\n",
    "// t = time in years\n",
    "\n",
    "var p = 25000;\n",
    "var r = 0.15;\n",
    "var n = 365;\n",
    "var t = 1/365;\n",
    "var acctAge = t*365;\n",
    "var newAcctBal = (p* Math.pow((1 + (r/(n*100))), (n*t)));\n",
    "\n",
    "for (var acctAge = 2; acctAge < 50; acctAge++) {\n",
    "console.log(\"The new account balance is: $\" + newAcctBal.toFixed(2));\n",
    "console.log(\"The account is \" + acctAge.toFixed(0) + \" days old.\");\n",
    "}"
   ]
  },
  {
   "cell_type": "code",
   "execution_count": null,
   "metadata": {},
   "outputs": [],
   "source": []
  }
 ],
 "metadata": {
  "kernelspec": {
   "display_name": "Javascript (Node.js)",
   "language": "javascript",
   "name": "javascript"
  },
  "language_info": {
   "file_extension": ".js",
   "mimetype": "application/javascript",
   "name": "javascript",
   "version": "6.13.1"
  }
 },
 "nbformat": 4,
 "nbformat_minor": 2
}
