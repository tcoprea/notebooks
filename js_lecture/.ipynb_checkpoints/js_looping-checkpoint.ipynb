{
 "cells": [
  {
   "cell_type": "code",
   "execution_count": 1,
   "metadata": {},
   "outputs": [
    {
     "data": {
      "text/plain": [
       "'Clermondo Erisme'"
      ]
     },
     "execution_count": 1,
     "metadata": {},
     "output_type": "execute_result"
    }
   ],
   "source": [
    "var names = [\n",
    "     'Clermondo Erisme',\n",
    "     'Tereza Oprea',\n",
    "     'Angel Melendez',\n",
    "     'Michelle Martin',\n",
    "     'Serhii Berlinskyi',\n",
    "     'Karina Campos',\n",
    "     'Oleh Zavodenko',\n",
    "     'Ryan Pyles',\n",
    "     'Scott Spiegel',\n",
    "     'Tatiana Morris',\n",
    "     'Kenneth Pauletti',\n",
    "     'Adi Nelson',\n",
    "     'Stephani Oliveros',\n",
    "     'Jane Kim',\n",
    "     'Jorge Orta',\n",
    "     'Alexis Espinoza',\n",
    "     'Paul Navarro'];\n",
    "names[0];"
   ]
  },
  {
   "cell_type": "code",
   "execution_count": 2,
   "metadata": {},
   "outputs": [],
   "source": [
    "var first = function(names) {\n",
    "    return names[0];\n",
    "}"
   ]
  },
  {
   "cell_type": "code",
   "execution_count": 4,
   "metadata": {},
   "outputs": [
    {
     "data": {
      "text/plain": [
       "'Clermondo Erisme'"
      ]
     },
     "execution_count": 4,
     "metadata": {},
     "output_type": "execute_result"
    }
   ],
   "source": [
    "first(names);"
   ]
  },
  {
   "cell_type": "code",
   "execution_count": 7,
   "metadata": {},
   "outputs": [
    {
     "name": "stdout",
     "output_type": "stream",
     "text": [
      "Clermondo Erisme Clermondo Erisme Ryan Pyles\n"
     ]
    }
   ],
   "source": [
    "var someItem = function(names, index = 0) {\n",
    "    return names[index];\n",
    "}\n",
    "console.log(first(names), someItem(names), someItem(names,7));"
   ]
  },
  {
   "cell_type": "code",
   "execution_count": 9,
   "metadata": {},
   "outputs": [
    {
     "data": {
      "text/plain": [
       "true"
      ]
     },
     "execution_count": 9,
     "metadata": {},
     "output_type": "execute_result"
    }
   ],
   "source": [
    "Array.isArray(names);"
   ]
  },
  {
   "cell_type": "code",
   "execution_count": 10,
   "metadata": {},
   "outputs": [
    {
     "name": "stdout",
     "output_type": "stream",
     "text": [
      "undefined 'Clermondo Erisme' 'Ryan Pyles'\n"
     ]
    }
   ],
   "source": [
    "var first = function(names, index) {\n",
    "    return names[index];\n",
    "}\n",
    "console.log(first(names), someItem(names), someItem(names,7));"
   ]
  },
  {
   "cell_type": "code",
   "execution_count": 12,
   "metadata": {},
   "outputs": [
    {
     "data": {
      "text/plain": [
       "[ 'Clermondo', 'Erisme' ]"
      ]
     },
     "execution_count": 12,
     "metadata": {},
     "output_type": "execute_result"
    }
   ],
   "source": [
    "//if you try to get something off an array with no index, you get undefined\n",
    "var splitter = function(fullname) {\n",
    "    return fullname.split(' ');\n",
    "}\n",
    "splitter(names[0]);"
   ]
  },
  {
   "cell_type": "code",
   "execution_count": 13,
   "metadata": {},
   "outputs": [
    {
     "data": {
      "text/plain": [
       "17"
      ]
     },
     "execution_count": 13,
     "metadata": {},
     "output_type": "execute_result"
    }
   ],
   "source": [
    "names.length"
   ]
  },
  {
   "cell_type": "code",
   "execution_count": 18,
   "metadata": {},
   "outputs": [
    {
     "name": "stdout",
     "output_type": "stream",
     "text": [
      "Clermondo Erisme\n",
      "Angel Melendez\n",
      "Serhii Berlinskyi\n",
      "Oleh Zavodenko\n",
      "Scott Spiegel\n",
      "Kenneth Pauletti\n",
      "Stephani Oliveros\n",
      "Jorge Orta\n",
      "Paul Navarro\n"
     ]
    }
   ],
   "source": [
    "//LOOPS! you need 3 things: state, condition, incrementation\n",
    "//imperative style: make a list of every other name\n",
    "\n",
    "for (var i=0; i<names.length; i+=2){\n",
    "    console.log(names[i]);\n",
    "}"
   ]
  },
  {
   "cell_type": "code",
   "execution_count": 21,
   "metadata": {},
   "outputs": [
    {
     "data": {
      "text/plain": [
       "[ 'Clermondo Erisme',\n",
       "  'Angel Melendez',\n",
       "  'Serhii Berlinskyi',\n",
       "  'Oleh Zavodenko',\n",
       "  'Scott Spiegel',\n",
       "  'Kenneth Pauletti',\n",
       "  'Stephani Oliveros',\n",
       "  'Jorge Orta',\n",
       "  'Paul Navarro' ]"
      ]
     },
     "execution_count": 21,
     "metadata": {},
     "output_type": "execute_result"
    }
   ],
   "source": [
    "var evenNames = [];\n",
    "for (var i = 0; i<names.length; i+=2) {\n",
    "    evenNames.push(names[i]);\n",
    "}\n",
    "evenNames"
   ]
  },
  {
   "cell_type": "code",
   "execution_count": 22,
   "metadata": {},
   "outputs": [
    {
     "data": {
      "text/plain": [
       "[ 'Clermondo Erisme',\n",
       "  'Tereza Oprea',\n",
       "  'Angel Melendez',\n",
       "  'Michelle Martin',\n",
       "  'Serhii Berlinskyi',\n",
       "  'Karina Campos',\n",
       "  'Oleh Zavodenko',\n",
       "  'Ryan Pyles',\n",
       "  'Scott Spiegel',\n",
       "  'Tatiana Morris',\n",
       "  'Kenneth Pauletti',\n",
       "  'Adi Nelson',\n",
       "  'Stephani Oliveros',\n",
       "  'Jane Kim',\n",
       "  'Jorge Orta',\n",
       "  'Alexis Espinoza',\n",
       "  'Paul Navarro' ]"
      ]
     },
     "execution_count": 22,
     "metadata": {},
     "output_type": "execute_result"
    }
   ],
   "source": [
    "names.map (item => item);"
   ]
  },
  {
   "cell_type": "code",
   "execution_count": 29,
   "metadata": {},
   "outputs": [
    {
     "data": {
      "text/plain": [
       "[ '1 Clermondo Erisme',\n",
       "  '2 Tereza Oprea',\n",
       "  '3 Angel Melendez',\n",
       "  '4 Michelle Martin',\n",
       "  '5 Serhii Berlinskyi',\n",
       "  '6 Karina Campos',\n",
       "  '7 Oleh Zavodenko',\n",
       "  '8 Ryan Pyles',\n",
       "  '9 Scott Spiegel',\n",
       "  '10 Tatiana Morris',\n",
       "  '11 Kenneth Pauletti',\n",
       "  '12 Adi Nelson',\n",
       "  '13 Stephani Oliveros',\n",
       "  '14 Jane Kim',\n",
       "  '15 Jorge Orta',\n",
       "  '16 Alexis Espinoza',\n",
       "  '17 Paul Navarro' ]"
      ]
     },
     "execution_count": 29,
     "metadata": {},
     "output_type": "execute_result"
    }
   ],
   "source": [
    "names.map((item, i) => `${i + 1} ${item}`);"
   ]
  },
  {
   "cell_type": "code",
   "execution_count": 41,
   "metadata": {},
   "outputs": [
    {
     "ename": "SyntaxError",
     "evalue": "Unexpected token <",
     "execution_count": 41,
     "output_type": "error",
     "traceback": [
      "evalmachine.<anonymous>:1",
      "<img src=\"http://www.globalnerdy.com/wordpress/wp-content/uploads/2016/06/map-filter-reduce-in-emoji-1.png\">",
      "^",
      "",
      "SyntaxError: Unexpected token <",
      "    at createScript (vm.js:56:10)",
      "    at Object.runInThisContext (vm.js:97:10)",
      "    at run ([eval]:1002:15)",
      "    at onRunRequest ([eval]:829:18)",
      "    at onMessage ([eval]:789:13)",
      "    at emitTwo (events.js:106:13)",
      "    at process.emit (events.js:191:7)",
      "    at process.nextTick (internal/child_process.js:787:12)",
      "    at _combinedTickCallback (internal/process/next_tick.js:73:7)",
      "    at process._tickCallback (internal/process/next_tick.js:104:9)"
     ]
    }
   ],
   "source": [
    "<img src=\"http://www.globalnerdy.com/wordpress/wp-content/uploads/2016/06/map-filter-reduce-in-emoji-1.png\">"
   ]
  },
  {
   "cell_type": "code",
   "execution_count": 32,
   "metadata": {},
   "outputs": [],
   "source": [
    "//map iterates over all the items in an array"
   ]
  },
  {
   "cell_type": "code",
   "execution_count": 35,
   "metadata": {},
   "outputs": [
    {
     "data": {
      "text/plain": [
       "9"
      ]
     },
     "execution_count": 35,
     "metadata": {},
     "output_type": "execute_result"
    }
   ],
   "source": [
    "var array = [9,4,5][0]\n",
    "array"
   ]
  },
  {
   "cell_type": "code",
   "execution_count": 36,
   "metadata": {},
   "outputs": [],
   "source": [
    "//black ones are arrays, green ones are accessors"
   ]
  },
  {
   "cell_type": "code",
   "execution_count": 38,
   "metadata": {},
   "outputs": [
    {
     "data": {
      "text/plain": [
       "4"
      ]
     },
     "execution_count": 38,
     "metadata": {},
     "output_type": "execute_result"
    }
   ],
   "source": [
    "var o = {a:4} //this is an object\n",
    "o['a'] //pull 'a' out, end up with 4"
   ]
  },
  {
   "cell_type": "code",
   "execution_count": null,
   "metadata": {},
   "outputs": [],
   "source": []
  }
 ],
 "metadata": {
  "kernelspec": {
   "display_name": "Javascript (Node.js)",
   "language": "javascript",
   "name": "javascript"
  },
  "language_info": {
   "file_extension": ".js",
   "mimetype": "application/javascript",
   "name": "javascript",
   "version": "6.13.1"
  }
 },
 "nbformat": 4,
 "nbformat_minor": 2
}
