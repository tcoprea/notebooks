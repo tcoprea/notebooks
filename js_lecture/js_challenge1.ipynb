{
 "cells": [
  {
   "cell_type": "code",
   "execution_count": 1,
   "metadata": {},
   "outputs": [
    {
     "data": {
      "text/plain": [
       "{ l: 5,\n",
       "  d: 4,\n",
       "  f: 3,\n",
       "  s: 4,\n",
       "  k: 4,\n",
       "  t: 1,\n",
       "  i: 1,\n",
       "  j: 2,\n",
       "  v: 5,\n",
       "  n: 3,\n",
       "  m: 1,\n",
       "  ' ': 1,\n",
       "  r: 1,\n",
       "  g: 1,\n",
       "  o: 1 }"
      ]
     },
     "execution_count": 1,
     "metadata": {},
     "output_type": "execute_result"
    }
   ],
   "source": [
    "// Task: Define a function named \"countCharacters\" that takes one argument.\n",
    "// The parameter in the signature is named string.\n",
    "// The function returns an object that has property names that correspond to each character of the string. The values of the object should be the counts of each character.\n",
    "// Example:\n",
    "\n",
    "// function countCharacters(string){\n",
    "//     // logic here that creates the object\n",
    "//     return {}  // Returned object.\n",
    "// }\n",
    "\n",
    "// countCharacters('aazbbex') //calling the function\n",
    "// {'a': 2, 'z': 1, 'b': 2, 'e': 1, 'x' 1} //expected output\n",
    "\n",
    "// Outline:\n",
    "// make a fn that takes a str as an argument.\n",
    "// function returns an object.\n",
    "// the object contains: property names as letters in the string. --you make the properties as you iterate\n",
    "// property values are equal to the count of the letter. never seen before? set count to 1. else ++\n",
    "\n",
    "var testString = 'ldfsktijfdkvnsllsslkfnvvvnvdml rkgjdo';\n",
    "\n",
    "\n",
    "function countCharacters (string) {\n",
    "  var counter = {};\n",
    "  \n",
    "  for (i=0; i<string.length;i++) {\n",
    "    \n",
    "    if(!counter.hasOwnProperty(string[i])) {\n",
    "      counter[string[i]] = 1; \n",
    "      }\n",
    "    else {\n",
    "      counter[string[i]]++;\n",
    "         }\n",
    "  }\n",
    "  \n",
    "  return counter;\n",
    "  }\n",
    "  \n",
    "countCharacters (testString);"
   ]
  },
  {
   "cell_type": "code",
   "execution_count": null,
   "metadata": {},
   "outputs": [],
   "source": []
  }
 ],
 "metadata": {
  "kernelspec": {
   "display_name": "Javascript (Node.js)",
   "language": "javascript",
   "name": "javascript"
  },
  "language_info": {
   "file_extension": ".js",
   "mimetype": "application/javascript",
   "name": "javascript",
   "version": "6.13.1"
  }
 },
 "nbformat": 4,
 "nbformat_minor": 2
}
