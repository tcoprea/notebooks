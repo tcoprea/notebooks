{
 "cells": [
  {
   "cell_type": "code",
   "execution_count": null,
   "metadata": {},
   "outputs": [],
   "source": [
    "let animal = {\n",
    "  classification: \"Please define a value for 'classification'.\",\n",
    "  species: \"Please define a value for 'species'.\",\n",
    "  sound: \"Please define a value for 'sound'.\",\n",
    "  makeSound: function () {\n",
    "    return `${this.sound}`},\n",
    "  printSpecies: function () {\n",
    "    return `My species is a ${this.species}!`;}\n",
    "};\n",
    "\n",
    "let cat = Object.create(animal); {\n",
    "  cat.species = \"cat\";\n",
    "  cat.sound = \"meow\";\n",
    "}\n",
    "\n",
    "cat.printSpecies();\n",
    "cat.makeSound();\n",
    "\n",
    "let squirrel = Object.create(animal); {\n",
    "  squirrel.species = \"rodent\";\n",
    "  squirrel.sound = \"chitter\";\n",
    "}\n",
    "\n",
    "squirrel.printSpecies();\n",
    "squirrel.makeSound();"
   ]
  }
 ],
 "metadata": {
  "kernelspec": {
   "display_name": "Javascript (Node.js)",
   "language": "javascript",
   "name": "javascript"
  },
  "language_info": {
   "file_extension": ".js",
   "mimetype": "application/javascript",
   "name": "javascript",
   "version": "6.13.1"
  }
 },
 "nbformat": 4,
 "nbformat_minor": 2
}
